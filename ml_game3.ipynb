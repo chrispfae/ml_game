{
 "cells": [
  {
   "cell_type": "markdown",
   "id": "d4399547-d995-4a0c-a717-d7a421c531b7",
   "metadata": {},
   "source": [
    "# Machine Learning Escape Game\n",
    "---"
   ]
  },
  {
   "cell_type": "markdown",
   "id": "10ab811a-c0b1-4770-a612-9781ccdfe241",
   "metadata": {},
   "source": [
    "**Ben:** \"Hier diese Zettel sind wirklich hilfreich. Sie enthalten Datenblätter mit folgenden Informationen:\"\n",
    "\n",
    "- `Bild`: Ein Bild des Roboters\n",
    "\n",
    "- `Name`: Der Name des Roboters\n",
    "\n",
    "- `Job`: Der Aufgabenbereich des Roboters\n",
    "\n",
    "**Sarah:** \"Und hier ist ein Blatt, mit dem wir erkennen können, welcher Aufgabenbereich für uns gefährlich ist.\"\n",
    "\n",
    "| Aufgabenbereich | Gefährlich oder harmlos | Deutsche Beschreibung des Jobs                            | \n",
    "| ------------------ | ----------------------- | --------------------------------------------------------------- | \n",
    "| Kinderbetreuung | Harmlos                 | Gut gelaunte kleine Roboter, die sich um kleine Kinder sorgen und sie unterhalten. | \n",
    "| Assistent mit Spezialisierung auf menschliche Interaktionen     | Harmlos              | Sorgen sich um das Wohl der Besucher. Beinhaltet unter Anderem die Versorgung mit Essen und Getränke, Wissensbereitstellung über das Intranet von TecVille und Führungen durch speziell für Menschen bereitgestellte Firmenbereiche.   | \n",
    "| Aufseher     | Gefährlich              | Besitzen zusätzlich zu den Funktionen der Assistenzroboter Waffensysteme zur Verteidigung der Firmengeheimnisse. Waffensysteme sind versteckt und werden erst bei Gefahr sichtbar. |\n",
    "\n",
    "\n",
    "**Sarah:** \"Das heißt, wenn ich diese Akte hier nehme ...\"\n",
    "\n",
    "<div style=\"border: 1px solid lightblue; width: fit-content; text-align: center; display: inline-block; padding: 5px;\">\n",
    "    <img src=\"images/classification/training/cute1.png\" width=\"122\"/>\n",
    "    <p>Name: Savannah</p>\n",
    "    <p>Job: Kinderbetreuung </p>\n",
    "</div>\n",
    "\n",
    "**Sarah:** \"... dann seh ich, dass dieser Roboter für die Betreuung von Kindern zuständig ist. Und auf dem Blatt mit den Berufen ist er als harmlos eingestuft.\""
   ]
  },
  {
   "cell_type": "code",
   "execution_count": null,
   "id": "a7975429-5300-4eb6-a2ac-20219d2685ed",
   "metadata": {
    "scrolled": true
   },
   "outputs": [],
   "source": [
    "import sys\n",
    "import os\n",
    "\n",
    "%matplotlib widget\n",
    "\n",
    "sys.path.append(os.path.abspath(\"src\"))\n",
    "\n",
    "from classification import *\n",
    "from classification import aufgabe\n",
    "\n",
    "aufgabe.part1()"
   ]
  },
  {
   "cell_type": "code",
   "execution_count": null,
   "id": "af495844-8089-4569-af2f-e2c6767a62dc",
   "metadata": {
    "scrolled": true
   },
   "outputs": [],
   "source": [
    "aufgabe.part2()"
   ]
  },
  {
   "cell_type": "markdown",
   "id": "df09c1bf-80c5-4839-a4c3-8abede65011c",
   "metadata": {},
   "source": [
    "Plötzlich flackern weitere rote Lichter auf, die den Raum in unheimliche Schatten tauchen und auf den kalten Metallwänden reflektieren. Ein schrilles Warnsignal ertönt, während sich kleine Drohnen in den Ecken aktivieren und rotierende Sensoren auf euch richten. Sarah zuckt zusammen, Ben hält den Atem an, und Beep beginnt hektisch seine Systeme zu überprüfen. Eine mechanische Stimme ertönt aus einem Lautsprecher:\n",
    "\n",
    "**Sicherheitskontrolle:** *\"Unerlaubter Zugriff festgestellt. Sicherheitsmaßnahmen werden eingeleitet.\"*&#x20;\n",
    "\n",
    "In der Ferne hört ihr das Summen der sich nähernden Sicherheitsroboter.\n",
    "\n",
    "**Sarah:** \"Uns rennt die Zeit davon. Gibt es nicht noch eine andere Möglichkeit als zu raten?\"\n",
    "\n",
    "**Ben:** \"Wir haben doch vorhin Regression verwendet um den Robotern zu entkommen. Können wir das nicht wieder versuchen?\"\n",
    "\n",
    "**Sarah:** \"Das ist eine super Idee! Aber was sollen wir denn für Daten nehmen? Wir brauchen ja irgendwelche Zahlen als Grundlage wie Beispielsweise die Größe der Roboter.\"\n",
    "\n",
    "**Ben:** \"Oh ja, das ist ein Problem. Wir wissen nur wie die Roboter aussehen und wollen wissen, ob sie gefährlich oder harmlos sind.\"\n",
    "\n",
    "**Sarah:** \"Das ist wirklich ein Problem. Wir könnten damit zum Beispiel die Armlänge oder die Geschwindigkeit des Roboters basierend auf der Körpergröße einschätzen, aber zum einen bringen uns die Werte nichts, wenn wir nicht wissen, ob wir uns vor dem Roboter in Acht nehmen müssen, zum anderen können wir die Größe des Roboters der uns gegenübersteht nur grob schätzen.\"\n",
    "\n",
    "**Ben:** \"Stimmt! Aber wir können ja ganz schnell Bilder von den Robotern machen und die dann als Grundlage verwenden. Und wir haben ja hier schon ganz viele Bilder aus den Akten und die Möglichkeit zu entscheiden, ob sie harmlos oder gefährlich sind.\"\n",
    "\n",
    "**Sarah:** \"Ja, aber die sehen alle gsich sehr ähnlich – aber es gibt vielleicht kleine Unterschiede! Beep, kennst du eine  Möglichkeit, mit den Bildern vorherzusagen, ob die Roboter harmlos oder gefährlich sind?\"\n",
    "\n",
    "**Beep:** \"Es gibt Machine Learning Modelle, die Bilder in Gruppen einordnen können.  Ich schaue mal, was es online so gibt …\"\n",
    "\n",
    "Nach ein paar Sekunden meldet sich Beep wieder:\n",
    "\n",
    "**Beep:** \"Es gibt leider kein Modell, was schon genau auf euer Problem trainiert wurde. Aber ich habe ein untrainiertes Modell gefunden, das wir benutzen können. Dieses können wir mit Hilfe der Akten trainieren. Dabei lernt das Modell, bestimmte Muster zu erkennen – zum Beispiel, woran man harmlose oder gefährliche Roboter unterscheiden kann.\n",
    "Solche Muster sind für uns Menschen manchmal schwer zu sehen – aber genau darin liegt die Stärke von maschinellem Lernen!\"\n",
    "\n",
    "**Ben:** \"Und wie können wir das Modell trainieren?\"\n",
    "\n",
    "**Beep:** \"Ganz einfach, ihr müsst nur die Bilder in die Gruppen harmlos und gefährlich einteilen und anschließend auf trainieren klicken. Danach lernt das Modell mit Hilfe eines komplizierten Algorithmus den Zusammenhange zwischen Aussehen und den Kategorien harmlos und gefährlich. Ich zeige euch für jeden Job jeweils fünf beispielhafte Bilder. Sonst wäre es zu unübersichtlich.\""
   ]
  },
  {
   "cell_type": "code",
   "execution_count": null,
   "id": "5990b8d3-4238-4380-b1b4-f37e0b309d35",
   "metadata": {},
   "outputs": [],
   "source": [
    "aufgabe.part3()"
   ]
  },
  {
   "cell_type": "markdown",
   "id": "79e75f96-4354-4bbb-abcf-055333880ed1",
   "metadata": {},
   "source": [
    "### Plötzlich erschüttert ein lauter Knall den Raum, gefolgt von metallischem Klirren – die Roboter nähern sich unaufhaltsam den Türen. Ihr spürt die Anspannung in der Luft.\n",
    "\n",
    "**Ben:**  (blickt besorgt auf die Ergebnisse): \"Irgendwas stimmt hier noch nicht … Können wir die Vorhersagen nicht irgendwie verbessern und was bedeutet überhaupt dieses 'mit einer Gewissheit von'?\"\n",
    "\n",
    "**Beep:**  \"Die Gewissheit gibt an wie sicher sich das Modell ist, ob ein Roboter harmlos oder gefährlich ist. Das Modell versucht also aus den Trainingsdaten zu lernen, welche Eigenschaften harmlose oder gefährliche Roboter haben. Zum Beispiel könnte es aus den Daten gelernt haben, dass Roboter mit großen Augen harmlos sind oder dass gelbe Roboter oft gefährlich sind. Es wertet alle diese analysierten Eigenschaften aus und trifft eine Entscheidung. Manchmal ist sich das Modell mehr and manchmal weniger sicher in seiner Entscheidung. Ähnlich wie bei euch Menschen.\"\n",
    "\n",
    "**Ben:** \"Das macht Sinn. Wie kann es allerdings sein, dass sich das Modell sehr sicher ist in seiner Entscheidung und trotzdem falsch liegt?\"\n",
    "\n",
    "**Beep:** \"Das kann mehrere Gründe haben: Zum einen machen auch sehr gut trainierte Modelle Fehler. Das lässt sich leider nicht immer vermeiden. Deshalb sollte das Ergebnis immer kritisch hinterfragt und wenn möglich getestet werden. Eine andere Möglichkeit ist, dass das Modell noch nicht den korrekten Zusammenhang zwischen Bildern und den Kategorien harmlos/gefährlich gelernt hat. Es hat also noch nicht verstanden, welche Eigenschaften harmlose und gefährliche Roboter haben.\"\n",
    "\n",
    "**Sarah:** \"Puh. Das ist wirklich kompliziert. Nehmen wir einmal an, dass unser Modell noch nicht die entscheidenden Eigenschaften gelernt hat, um harmlos von gefählich zu unterscheiden. Wie können wir das verbessern?\"\n",
    "\n",
    "**Beep:** \"Oft liegt das Problem an den Trainingsdaten. Je komplexer die Aufgabe, desto mehr Beispielbilder werden benötigt, um...\"\n",
    "\n",
    "**Sarah**: \"Können wir die Bilder der Kinderbetreuer nicht einfach entfernen? Die sind so einfach zu erkennen.\"\n",
    "\n",
    "**Beep:** \"Das ist eine hervoragende Idee. Übrigens ist es für euch eventuell einfach die Kinderbetreuer zu erkennen. Für das Modell ist das allerdings ziemlich schwierig, da wir nur wenige Beispielbilder haben und die Kinderbetreuer sich untereinander sehr stark im Aussehen unterscheiden. Das macht es schwierig für das Modell die Eigenschaften von Kinderbetreuern zu erkennen.\"\n",
    "\n",
    "**Sarah:** \"Oh und ich dachte Machine Learning ist immer besser als wir Menschen?\"\n",
    "\n",
    "**Beep:** \"Du hast zwar recht, dass Machine Learning Modelle in einigen Dingen deutlich besser sind als ihr Menschen. Aber Modelle müssen immer so trainiert werden, dass die Vorhersagen gut sind. Dazu benötigen sie meist sehr sehr viele Daten.\"\n",
    "\n",
    "**Sarah:**  (wirft einen nervösen Blick zur Tür): \"Die Roboter sind fast hier! Lasst uns die Kinderbetreuer aus den Daten nehmen und es erneut versuchen. Die Roboter, die uns die Ausgänge blockieren sind sowieso keine Kinderbetreuer.\"\n",
    "\n",
    "**Ben:**  (entschlossen): \"Lasst es uns versuchen!\"\n",
    "\n",
    "**Beep:** \"Gut. Wir wiederholen die vorherige Aufgabe und ignorieren die Kinderbetreuer.\""
   ]
  },
  {
   "cell_type": "code",
   "execution_count": null,
   "id": "12a4b2db-40c9-4f25-aae5-53da033aa2f8",
   "metadata": {},
   "outputs": [],
   "source": [
    "aufgabe.part4()"
   ]
  },
  {
   "cell_type": "markdown",
   "id": "f5818cfb-7e3a-445d-bd07-1aaa39674e4c",
   "metadata": {},
   "source": [
    "**Sarah:** \"Das ist immer noch genauso schlecht wie davor!\"\n",
    "\n",
    "**Beep:** \"Das stimmt leider. Manchmal gibt es mehrere Probleme und diese müssen alle gelöst werden, um gute Vorhersagen zu bekommen.\"\n",
    "\n",
    "**Ben:** \"Was können wir denn noch versuchen?\"\n",
    "\n",
    "**Beep:** \"Die Bilder enthalten oft relevante und nicht relevante Informationen. Zum Beispiel ist der Hintergrund nicht relevant, um die Roboter als harmlos oder gefährlich einzustufen.\"\n",
    "\n",
    "**Sarah:** \"Ah und diese nicht relevanten Informationen macht es wieder kompizierter für das Modell zu lernen?\"\n",
    "\n",
    "**Beep:** \"Genau! Ich entferne schnell die Hintergründe und wir versuchen es noch einmal.\"\n",
    "\n",
    "**Ben:** \"Wirklich? Ist der Hintergrund so entscheidend?\"\n",
    "\n",
    "**Beep:** \"Möglicherweise. Er nimmt immerhin fast die Hälfte von jedem Bildes ein. Es wäre doch ziemlich schlecht, wenn das Modell zum Beispiel immer denkt, dass ein Roboter gefährlich ist, nur weil der Hintergrund dunkel ist.\"\n",
    "\n",
    "**Ben:** \"Gut...Letzter Versuch.\"\n",
    "\n",
    "**Beep:** \"Kategorisiert die Roboter erneut in gefährlich und harmlos. Stellt danach eine Vermutung auf, wie das Weglassen der Hintergründe die Vorhersage beeinflussen wird.\" (Schreibt dies auf ein Blatt Papier auf)"
   ]
  },
  {
   "cell_type": "code",
   "execution_count": null,
   "id": "a239e002-ff94-44b4-982c-3a79bf9c068b",
   "metadata": {},
   "outputs": [],
   "source": [
    "aufgabe.part5()"
   ]
  },
  {
   "cell_type": "markdown",
   "id": "e878e0eb-fb55-4c5c-a949-bbd67590755c",
   "metadata": {},
   "source": [
    "Ihr erreicht eine verschlossene Tür mit einem Terminal. Die roten Lichter der Sicherheitsroboter tanzen über den kalten Metallboden, ihr mechanisches Surren kommt immer näher. Das Modell muss jetzt eine Entscheidung treffen – und ihr müsst darauf vertrauen, dass es die richtige ist.\n",
    "\n",
    "**Ben:**  (zögert, während er auf das Terminal starrt): \"Können wir uns wirklich darauf verlassen? Was, wenn es sich irrt?\"\n",
    "\n",
    "**Sarah:**  (blickt angespannt auf die Daten): \"Wir können nur so sicher sein, wie unsere Daten und unser Training es erlauben. Kein Modell ist perfekt.\"\n",
    "\n",
    "**Beep:**  (mit ernster Stimme): \"Ganz genau! Ein Modell trifft seine Entscheidung immer auf Basis von Wahrscheinlichkeiten – das heißt, es kann auch falsch liegen. Deshalb haben wir es mit so vielen Daten wie möglich getestet, um die Unsicherheit zu minimieren.\"\n",
    "\n",
    "Beep hält einen Moment inne, während das Modell die Analyse durchführt.\n",
    "\n",
    "**Beep:**  \"Das ist der beste Stand, den wir erreichen konnten. Jetzt liegt es an euch. Entscheidet mit dem, was ihr gelernt habt.\""
   ]
  },
  {
   "cell_type": "markdown",
   "id": "54555f0d-5f5c-4b29-8307-894e3d54dba6",
   "metadata": {},
   "source": [
    "<span style=\"color:red\"> </span>"
   ]
  },
  {
   "cell_type": "code",
   "execution_count": null,
   "id": "9e609f00-3ba3-47c8-803a-d6f339b7fcda",
   "metadata": {},
   "outputs": [],
   "source": [
    "aufgabe.part6()"
   ]
  },
  {
   "cell_type": "markdown",
   "id": "2f7852e1-cf5c-4728-bd2c-1c3b15a99981",
   "metadata": {},
   "source": [
    "**Als ihr die Tür öffnet, begrüßt euch der Roboter freundlich – doch ihr zögert nicht. Ihr stürmt hinaus: durch dunkle Gänge, über eine verrostete Notfallleiter und schließlich durch einen Seitenausgang ins Freie.**\n",
    "\n",
    "Draußen blendet euch das grelle Sonnenlicht. Ihr atmet erleichtert auf – ihr habt es geschafft.\n",
    "\n",
    "Ben schlägt vor, zu ihm nach Hause zu gehen.\n",
    "\n",
    "Wenig später liegt das geheimnisvolle Tablet auf dem Wohnzimmertisch.\n",
    "\n",
    "**Sarah**: \"Lass uns endlich herausfinden, was auf diesem Tablet gespeichert ist.\"\n",
    "\n",
    "Auf dem Bildschirm erscheinen Nachrichtenclips und Bilder – vertraut und doch seltsam verändert. Eine euch bekannte Rede über Roboter, gehalten von einer beliebten Politikerin. Aber diesmal spricht kein Mensch. Es ist ein Roboter.\n",
    "\n",
    "**Ben**: \"Moment mal! Diese Rede hat doch Frau Wichtigstein gehalten, oder nicht?\"\n",
    "\n",
    "**Beep**: \"Das hier scheinen die Originalaufnahmen zu sein. Künstliche Intelligenz hat einfach das Gesicht von Frau Wichtigstein darübergelegt. So haben die Roboter es geschafft, unser Vertrauen zu gewinnen – und schließlich die Macht, über uns zu entscheiden.\"\n",
    "\n",
    "**Sarah**: \"Aber warum? Warum sollte jemand so etwas tun?\"\n",
    "\n",
    "**Beep**: \"Die Roboter wollten, dass die Menschen glauben, sie seien harmlos. Und niemand hat mehr nachgefragt, als es zu spät war.\"\n",
    "\n",
    "Nachdenkliches Schweigen. Die Kinder schauen sich an. Sie verstehen: Nicht alles, was echt aussieht, ist wirklich wahr.\n",
    "\n",
    "**Beep**: \"Im Zeitalter der Daten ist die Wahrheit manchmal schwer zu erkennen – und gerade deshalb so wichtig.\"\n",
    "\n",
    "**Ben**: \"Wir sollten als Menschen  maschinelles Lernen und die Entwicklung von künstlicher Intelligenz insgesamt stark bremsen, damit wir immer die Kontrolle behalten und keine gefährlichen Fehler gemacht werden.\"\n",
    "\n",
    "**Sarah**: \"Aber kann man technischen Fortschritt überhaupt einfach aufhalten? Vielleicht müssten wir eher lernen, besser damit umzugehen – statt ihn zu verbieten, er hat uns heute auch geholfen\"\n",
    "\n",
    "**Beep**: \"Oder hätte man den Maschinen von Anfang an klare ethische Grenzen setzen müssen? Vielleicht liegt der Fehler gar nicht in der Technik, sondern im Umgang der Menschen mit ihr.\"\n",
    "\n",
    "Ein Moment der Stille. Jeder denkt über das Gesagte nach.\n",
    "\n",
    "**Sarah**: \"Was hätten die Menschen damals tun können, um das zu verhindern?\"\n",
    "\n",
    "**Ben**: \"Und wie sollen wir heute mit solchen Technologien umgehen – bevor es wieder zu spät ist?\"\n",
    "\n",
    "Das Tablet wird stumm. Doch die Fragen bleiben.\n",
    "\n",
    "**Die Wahrheit zu finden, war nur der Anfang.**"
   ]
  },
  {
   "cell_type": "markdown",
   "id": "82781c11-08c8-451b-a036-9e1c44c07ad1",
   "metadata": {},
   "source": [
    "## Zusatzaufgabe 3: Roboter-Datenbank auffüllen\n",
    "---\n",
    "Stell dir vor, du bist ein Roboter-Designer!  \n",
    "In der Liste siehst du Roboter, bei denen wichtige Informationen fehlen, sie sind mit „NaN“ markiert.  \n",
    "Ergänze für jeden Roboter einen Namen, eine Farbe, einen Job und eine Bewegungsart.  \n",
    "Verwende dafür die vorgegebenen Listen unten.  \n",
    "\n",
    "| Was?       | Welche Möglichkeiten gibt es?              |\n",
    "|------------|--------------------------------------------|\n",
    "| **Name**   | TidyBot, MedAssist, FlyerX, CleanMaster     |\n",
    "| **Farbe**  | Silber, Weiß, Gelb, Rot                    |\n",
    "| **Job**    | Haushalt, Medizin, Industrie, Unterhaltung |\n",
    "| **Bewegung** | Räder, Beine, Fliegen, Stationär          |\n",
    "\n",
    "Das hast du am Ende:\n",
    "Eine tolle Roboter-Datenbank, die vollständig und richtig ist!  \n",
    "Außerdem bekommst du eine kleine Roboter-Suchmaschine (eine Funktion), mit der du alle Roboter findest, die zum Beispiel weiß sind oder fliegen können.“"
   ]
  },
  {
   "cell_type": "code",
   "execution_count": null,
   "id": "589b8883-f0a2-4fb1-ae87-9c441462df13",
   "metadata": {},
   "outputs": [],
   "source": [
    "from additional_tasks.database import create_table\n",
    "\n",
    "create_table()"
   ]
  },
  {
   "cell_type": "markdown",
   "id": "6a71c968-7301-4b74-9b3e-0118b35791f6",
   "metadata": {},
   "source": [
    "## Zusatzaufgabe 4:\n",
    "---\n",
    "\n",
    "In dieser Aufgabe lernst du, Fehler in einem Klassifikationsalgorithmus zu erkennen.  \n",
    "Du überprüfst Beeps Entscheidungen, deckst Fehlklassifizierungen auf, analysierst die zugrunde liegende Entscheidungsregel und korrigierst sie. So trainierst du den Umgang mit Daten, erkennst relevante Merkmale und verbesserst ein Modell gezielt – genau wie beim Supervised Learning.\n",
    "\n",
    "Hier kommst du zur Aufgabe: [Extra-Mission](https://aydoaylin-web.github.io/Extra-Mission/)"
   ]
  }
 ],
 "metadata": {
  "kernelspec": {
   "display_name": "Python 3 (ipykernel)",
   "language": "python",
   "name": "python3"
  },
  "language_info": {
   "codemirror_mode": {
    "name": "ipython",
    "version": 3
   },
   "file_extension": ".py",
   "mimetype": "text/x-python",
   "name": "python",
   "nbconvert_exporter": "python",
   "pygments_lexer": "ipython3",
   "version": "3.10.12"
  }
 },
 "nbformat": 4,
 "nbformat_minor": 5
}
