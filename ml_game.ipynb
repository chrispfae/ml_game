{
 "cells": [
  {
   "cell_type": "markdown",
   "id": "d4399547-d995-4a0c-a717-d7a421c531b7",
   "metadata": {},
   "source": [
    "# Machine Learning Escape Game\n",
    "---"
   ]
  },
  {
   "cell_type": "markdown",
   "id": "e529d145-fa81-4a9e-90d5-2694110b74e0",
   "metadata": {},
   "source": [
    "# Regression"
   ]
  },
  {
   "cell_type": "code",
   "execution_count": null,
   "id": "5e03bb9a",
   "metadata": {
    "scrolled": true
   },
   "outputs": [],
   "source": [
    "import sys\n",
    "import os\n",
    "\n",
    "%matplotlib widget\n",
    "\n",
    "sys.path.append(os.path.abspath(\"src\"))\n",
    "from regression.password import password\n",
    "password()\n"
   ]
  }
 ],
 "metadata": {
  "kernelspec": {
   "display_name": "Python 3 (ipykernel)",
   "language": "python",
   "name": "python3"
  },
  "language_info": {
   "codemirror_mode": {
    "name": "ipython",
    "version": 3
   },
   "file_extension": ".py",
   "mimetype": "text/x-python",
   "name": "python",
   "nbconvert_exporter": "python",
   "pygments_lexer": "ipython3",
   "version": "3.10.12"
  }
 },
 "nbformat": 4,
 "nbformat_minor": 5
}
