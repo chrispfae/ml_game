{
 "cells": [
  {
   "cell_type": "markdown",
   "id": "d4399547-d995-4a0c-a717-d7a421c531b7",
   "metadata": {},
   "source": [
    "# Machine Learning Escape Game\n",
    "---"
   ]
  },
  {
   "cell_type": "markdown",
   "id": "e529d145-fa81-4a9e-90d5-2694110b74e0",
   "metadata": {},
   "source": [
    "# Regression"
   ]
  },
  {
   "cell_type": "code",
   "execution_count": null,
   "id": "5e03bb9a",
   "metadata": {
    "scrolled": true
   },
   "outputs": [],
   "source": [
    "import sys\n",
    "import os\n",
    "\n",
    "%matplotlib widget\n",
    "\n",
    "sys.path.append(os.path.abspath(\"src\"))\n",
    "from regression.password import password\n",
    "password()\n"
   ]
  },
  {
   "cell_type": "markdown",
   "id": "e7aa1f6a-8966-4290-808b-fb17c94a11ac",
   "metadata": {
    "jp-MarkdownHeadingCollapsed": true
   },
   "source": [
    "<div style=\"display: flex; align-items: flex-start; gap: 2rem;\">\n",
    "  <div style=\"flex: 1;\">\n",
    "    <p style=\"margin-bottom: 1rem;\">\n",
    "      „Juhuu!“, ruft ihr erleichtert, als sich der Bildschirm öffnet. Doch plötzlich öffnen sich die Türen des Raums, mehrere Roboter blockieren die Ausgänge hinter euch und kommen auf euch zu. Sie sehen alles andere als freundlich aus. Nervös schaut ihr euch an, während Beep hektisch den ganzen Raum absucht und seine Leuchten wild flackern.\n",
    "    </p>\n",
    "    <p>\n",
    "      Ihr dreht euch wieder zu den Robotern um und analysiert die Situation. Die Roboter stürmen auf euch zu und teilen sich geschickt auf euch auf.\n",
    "    </p>\n",
    "  </div>\n",
    "  <img src=\"images/ml_intro/Roboter_Raum1.jpg\" alt=\"roterKnopf\" style=\"width: 20%;\"/>\n",
    "</div>\n",
    "\n",
    "<div style=\"display: flex; align-items: flex-start; gap: 2rem;\">\n",
    "  <div style=\"flex: 1;\">\n",
    "    <p style=\"margin-bottom: 1rem;\">\n",
    "      <strong>Beep:</strong> \"Ihr müsst hier schnell raus! Ich habe einen Luftschacht gefunden, durch den ihr entkommen könnt. Aber dazu müsst ihr den roten Knopf erreichen, um den Luftschacht zu öffnen.\"\n",
    "    </p>\n",
    "    <p>\n",
    "      <strong>Sarah:</strong> \"Die Roboter wollen uns fangen und der schnellste Roboter scheint es auch auf die schnellste Person abgesehen zu haben! Aber woher wissen die Roboter, wer von uns wie schnell ist?\"\n",
    "    </p>\n",
    "  </div>\n",
    "  <img src=\"images/ml_intro/red_button.jpg\" alt=\"roterKnopf\" style=\"width: 20%;\"/>\n",
    "</div>\n",
    "\n",
    "**Ben:** \"Ich glaube sie denken, dass diejenigen von uns, die größer sind, auch schneller rennen können!\n",
    "\n",
    "**Beep:** \"Vermutlich berechnen sie wie schnell ihr seid. Ich habe online einen Datensatz gefunden mit der Körpergröße und Geschwindigkeit von über 20 Kindern. Hier, schaut es euch selbst an. Jeder blaue Punkt stellt die Körpergröße und Geschwindigkeit von eines Kindes dar.\" "
   ]
  },
  {
   "cell_type": "code",
   "execution_count": null,
   "id": "7f021e59-795d-45b2-8265-458db38ce7c6",
   "metadata": {},
   "outputs": [],
   "source": [
    "from regression.linear_regression import plot_data, lineare_regression\n",
    "\n",
    "plot_data()"
   ]
  },
  {
   "cell_type": "markdown",
   "id": "b355b439-2e84-4bd9-bf2a-01fbe9165c19",
   "metadata": {},
   "source": [
    "**Sarah:** \"Ah, ich verstehe. Anhand der Daten sehe ich, dass eine größere Person normalerweise auch schneller ist. Aber ich verstehe immer noch nicht, wie sie meine Geschwindigkeit bestimmen können. Ich bin 145 cm groß und dafür gibt es überhaupt keine Daten.\"\n",
    "\n",
    "**Beep:** \"Das stimmt. Aber du könntest versuchen, eine gerade Linie durch die Datenpunkte zu legen. Die Gerade sollte dabei so gut es geht zwischen allen Werten liegen, also nach oben und unten einen möglichst kleinen Abstand zu den Datenpunkten haben.\"\n",
    "\n",
    "**Ben:** \"Das können wir probieren! Und danach können wir direkt von der Geraden ablesen, wie schnell eine Person mit einer bestimmten Körpergröße warscheinlich ist. Auch für dich Sarah!\"\n"
   ]
  },
  {
   "cell_type": "markdown",
   "id": "72fba953-31ed-4498-9dd2-4754f7e1dcba",
   "metadata": {},
   "source": [
    "## Aufgabe\n",
    "---\n",
    "Wenn dir lineare Funktionen bereits ein Begriff sind, darfst du direkt mit der nächsten Aufgabe weitermachen. Falls nicht, hole dir bitte vorne ein Arbeitsblatt und bearbeite dieses zuerst."
   ]
  },
  {
   "cell_type": "markdown",
   "id": "ef8a0028-af39-468b-a346-8593477fd450",
   "metadata": {},
   "source": [
    "## Aufgabe\n",
    "---\n",
    "Verändere die Steigung und den y-Achsen Abschnitt der Geraden so, dass ein möglichst kleiner Abstand von der Geraden zu den Datenpunkten entsteht. Um dies besser abschätzen zu können, wird automatisch der Fehlerwert berechnet, indem die Abstände von jedem Punkt zur Gerade quadriert und aufsummiert werden. Je kleiner also der Fehlerwert ist, desto besser ist die Gerade platziert. Die beste Gerade kann durch einen Klick auf 'Zeige Regressionsgerade' angezeigt werden."
   ]
  },
  {
   "cell_type": "code",
   "execution_count": null,
   "id": "f41c0c17-facd-4fa5-bc57-acbae2c2e4a9",
   "metadata": {},
   "outputs": [],
   "source": [
    "lineare_regression()"
   ]
  },
  {
   "cell_type": "markdown",
   "id": "109a55ea-9d6d-45c4-b632-9c637a6aa7d8",
   "metadata": {
    "jp-MarkdownHeadingCollapsed": true
   },
   "source": [
    "Die Daten können sehr gut mit einer Geraden beschrieben werden. Das bedeutet, dass der Zusammenhang zwischen der Körpergröße und der Geschwindigkeit ziemlich sicher linear ist. Eine gleiche Veränderung in x-Richtung führt also immer zu einer Veränderung um einen festen Wert in y-Richtung. In unserem Beispiel ist eine um 1 cm größere Person normalerweise auch um 0.33 km/h schneller, wenn man eine optimale Gerade annimmt."
   ]
  },
  {
   "cell_type": "markdown",
   "id": "2cb3863b-3e2b-48ed-992e-9c820fb8d693",
   "metadata": {},
   "source": [
    "**Sarah:** \"Interessant! Mit Hilfe der Geraden kann ich jetzt auch Werte für meine Körpergröße ablesen.\"\n",
    "\n",
    "**Ben:** \"Ja schon, aber wie wurde die optimale Gerade bestimmt?\"\n",
    "\n",
    "**Beep:** \"Die optimale Gerade habe ich mit einer linearen Regression bestimmt. Schaue dir dazu die folgende Abbildung an.\"\n",
    "\n",
    "<img src=\"images/ml_intro/ML-Input-Output.png\" alt=\"Graph\" style=\"width: 40%; display: block; margin: auto;\"/>\n",
    "<br>\n",
    "\n",
    "\"In unserem Beispiel sehen die Roboter unsere Körpergrößen und bestimmen daraus unsere Geschwindigkeit. Die Körpergröße ist also die Eingabe und die Geschwindigkeit die Ausgabe.\"\n",
    "\n",
    "**Sarah:** \"Ja, schon klar, das hatten wir schon. Aber wie funktioniert es genau?\"\n",
    "\n",
    "**Beep:** \"Geduld. Jeder Roboter sammelt Datenpunkte, die blauen Punkte in der Abbildung oben. Jeder dieser Punkte besteht aus zusammengehörigen Ein- und Ausgabewerten. Ein Datenpunkt ist zum Beispiel die Körpergröße und die Geschwindigkeit von Hanna. Insgesamt haben die Roboter nicht nur die Daten von Hanna, sondern auch von Hans, Laura und vielen weiteren Personen. All diese Datenpunkte werden verwendet, um den Zusammenhang zwischen Körpergröße und Geschwindigkeit zu lernen...\"\n",
    "\n",
    "<img src=\"images/ml_intro/ML-Training.png\" alt=\"Graph\" style=\"width: 25%; display: block; margin: auto;\"/>\n",
    "<br>\n",
    "\n",
    "\"In unserem Beispiel nehmen die Roboter an, dass die Geschwindigkeit mit der Körpergröße steigt und zwar linear. Linear bedeutet: Für jeden zusätzlichen Zentimeter Körpergröße ändert sich die Geschwindigkeit um einen festen Betrag. Ein linearer Zusammenhang kann sehr gut mit einer Geraden, die die allgemeine Form `Output = m * Input + c` hat, beschrieben werden. Jetzt werden die Werte für `m` und `c` so bestimmt, dass die Gerade möglichst nahe an den Datenpunkten liegt. Den Prozess, die besten Werte für `m` und `c` zu bestimmen nennt man auch Training.\"\n",
    "\n",
    "Für jeden zusätzlichen Zentimeter Körpergröße ändert sich die Geschwindigkeit um einen festen Betrag.\n",
    "\n",
    "<img src=\"images/ml_intro/ML-Training_combined.png\" alt=\"Graph\" style=\"width: 25%; display: block; margin: auto;\"/>\n",
    "<br>\n",
    "\n",
    "**Ben:** \"Verstehe! Bestimmen die Roboter die Gerade auch durch ausprobieren?\"\n",
    "\n",
    "**Beep:** \"Bei einer Geraden gibt es zwei Möglichkeiten. Die erste Möglichkeit ist, die Werte für `m`und `c` exakt zu berechnen, sodass der Fehler möglichst gering ist. Dazu bestimmt man mathematisch die Werte für `m` und `c`, bei denen der Fehler minimal ist. \n",
    "\n",
    "Die zweite Möglichkeit ist – wie du schon vermutet hast – ein schrittweises Ausprobieren. Dabei startet man mit zufälligen Werten für `m` und `c` und versucht dann mithilfe bestimmter Verfahren (beispielsweise dem Gradientenabstiegsverfahren), den Fehler systematisch zu verringern. Wird der Fehler von Versuch zu Versuch kleiner, ist das ein Zeichen dafür, dass der Prozess in die richtige Richtung läuft – also macht man weiter. Am Ende entsteht so ein Modell, also eine Geradengleichung, die möglichst genau zu den vorhandenen Daten passt. Das Training endet, wenn die Gerade genau genug ist oder wenn eine bestimmte Anzahl an Versuchen durchgeführt wurde.\n",
    "\n",
    "Du kannst auch noch einmal nach oben schauen: Die optimale Gerade der Roboter hatte die Werte `m = 0,33` und `c = -25,74`.\"\n",
    "\n",
    "<img src=\"images/ml_intro/ML-Modell.png\" alt=\"Graph\" style=\"width: 40%; display: block; margin: auto;\"/>\n",
    "<br>\n",
    "\n",
    "**Beep:** \"Die bestimmte Gerade kann nun verwendet werden, um Vorhersagen zu treffen. Also dazu, für beliebige Körpergrößen die Geschwindigkeit zu berechnen.\"\n",
    "\n",
    "**Ben:** \"Hmm... ich bin zwar nicht besonders groß, nur 150 cm, aber trotzdem sehr schnell. Das heißt, bei mir hätten die Roboter nicht recht.\"\n",
    "\n",
    "**Beep:** \"Das stimmt! Wenige Personen entsprechen genau der Geraden, es gibt immer Fälle, in denen Personen für ihre Körpergröße besonders schnell oder langsam sind. Die Gerade des Modells macht jedoch bei vielen Personen insgesamt den kleinsten Fehler. Das heißt aber auch, dass sie bei jemandem wie dir die Geschwindigkeit nicht perfekt vorhersagen können. Aber hätten wir 100 Kinder, die so groß sind wie du, und wir würden die Geschwindigkeit dieser Kinder messen, dann würden die Datenpunkte der meisten Kinder sehr nah an der Geraden liegen und die Datenpunkte weniger Kinder weit weg, so wie bei dir.\""
   ]
  },
  {
   "cell_type": "markdown",
   "id": "00890f2b",
   "metadata": {},
   "source": [
    "## Aufgabe: Flucht in die Freiheit\n",
    "---\n",
    "\n",
    "<div style=\"display: flex; align-items: flex-start; gap: 2rem;\">\n",
    "  <div style=\"flex: 1;\">\n",
    "    <p style=\"margin-bottom: 1rem;\">\n",
    "      <strong>Sarah:</strong> \"Das ist ja alles schön und gut, aber wir wissen immer noch nicht, wer von uns diesen Knopf drücken soll.\"\n",
    "    </p>\n",
    "    <p>\n",
    "      <strong>Beep:</strong> \"Ich zeige euch noch einmal die Daten von vorhin und habe auch eure Daten nun in die Abbildung eingezeichnet.\"\n",
    "    </p>\n",
    "  </div>\n",
    "  <img src=\"images/ml_intro/red_button.jpg\" alt=\"roterKnopf\" style=\"width: 20%;\"/>\n",
    "</div>\n"
   ]
  },
  {
   "cell_type": "markdown",
   "id": "a42e5c08-8c49-4bd2-a57d-1577e17d2ed0",
   "metadata": {},
   "source": [
    "Schaue dir die Abbildung an. Wer von ihnen sollte rennen, um den Knopf zu drücken – Ben oder Sarah?  \n",
    "Begründe deine Entscheidung anhand der Abbildung. Erkläre, wer deiner Meinung nach bessere Chancen hat, den Robotern zu entkommen, und warum."
   ]
  },
  {
   "cell_type": "code",
   "execution_count": null,
   "id": "285c9139",
   "metadata": {},
   "outputs": [],
   "source": [
    "from regression.linear_regression import zeige_lineare_regression\n",
    "zeige_lineare_regression()"
   ]
  },
  {
   "cell_type": "markdown",
   "id": "ff83634b-c103-4d75-8989-3a5808a21f19",
   "metadata": {},
   "source": [
    "## Aufgabe\n",
    "---\n",
    "\n",
    "Sarah, Ben und Beep haben nun bestimmt, wer rennen muss, damit sie entkomen.  \n",
    "Nun fragt **Sarah:** \"Gibt es noch mehr Beispiele für lineare Zusammenhänge? Was könnte man mit einer Geraden noch gut vorhersagen?\"\n",
    "\n",
    "Hilf Ben und Sarah und markiere alle Beispiele für lineare Zusammenhänge. Wenn du bereit bist, drücke auf \"Auswerten\".\n"
   ]
  },
  {
   "cell_type": "code",
   "execution_count": null,
   "id": "1708da23-fab5-4b24-9f37-3e8e849adf53",
   "metadata": {},
   "outputs": [],
   "source": [
    "from regression.linear_relations import linear_relations\n",
    "\n",
    "linear_relations()"
   ]
  },
  {
   "cell_type": "markdown",
   "id": "4b9d789b-bba7-4988-9f25-adcb800135ec",
   "metadata": {},
   "source": [
    "## Zusatzaufgabe 1\n",
    "---\n",
    "\n",
    "**Ben:** \"Anscheinend sind nicht alle Zusammenhänge linear. Fällt dir noch ein Beispiel für einen nicht linearen Zusammenhang ein?\"\n",
    "\n",
    "**Sarah:** \"Ah, ich weiß! Wenn wir von den Robotern wegrennen, dann können wir am Anfang noch ganz schnell rennen. Aber je länger ich renne, desto langsamer werde ich... Ich brauche für die ersten 10m nur 3 Sekunden, aber für 20m schon 8 Sekunden, weil ich nicht unendlich lange in der gleichen Geschwindigketi laufen kann! Was ist das für ein Zusammenhang zwischen Strecke und Zeit?\"\n",
    "\n",
    "**Ben:** \"Dieser Zusammenhang ist auf jeden Fall nicht linear, sonst würdest du für jede 10 Meter, die dazukommen, einfach 3 Sekunden länger brauchen, also für 20 Meter 6 Sekunden. Ich vermute, dieser Zusammenhang ist quadratisch und kann mit Hilfe der Fomel `Output = m*Input^2 + n*Input + c` beschrieben werden. Der Input wird hier also zusätzlich quadriert. Übrigens nennt man diese Formeln, mit denen wir den Zusammenhang zwischen Input und Output beschreiben wollen, auch Modelle. Wenn die Modelle schon trainiert wurden, also in unserem Fall, wenn die optimalen Werte für die Variablen `m`, `n` und `c` schon bestimmt wurden, heißen sie auch trainierte Modelle. Neben linearen und quadratischen Modellen gibt es noch viele weiter wie beispielsweise polynomiale Modelle oder neuronale Netze.\"\n",
    "\n",
    "Schaue dir die Datenpunkte (Strecke und benötigte Zeit) genau an. Die Werte für Ben und Sarah sind in lila markiert. Zeige anschließend das lineare und quadratische Modell an und beantworte die Frage unter der Abbildung."
   ]
  },
  {
   "cell_type": "code",
   "execution_count": null,
   "id": "a36f6c51-dcd2-4782-bcb5-c7af3526b7d8",
   "metadata": {},
   "outputs": [],
   "source": [
    "from regression.quadratic_regression import model_selection, quadratic_regression\n",
    "quadratic_regression()\n",
    "model_selection()"
   ]
  },
  {
   "cell_type": "markdown",
   "id": "2259fdc8-3489-4bcf-b170-e6ee1e7588fd",
   "metadata": {},
   "source": [
    "## Zusatzaufgabe 2\n",
    "---\n",
    "(a) Welche Werte für die Steigung m und den Y-Achsenabschnitt c hat der blaue Funktionsgraphen in der unteren Abbildung?\n",
    "Trage die Werte für m und c in die Felder unten ein und klicke auf \"Zeichne Gerade\".\n",
    "Ist deine Angabe richtig, dann wird der neu konstruierte Funktionsgraph (orange) genau über den Bestehenden gelegt."
   ]
  },
  {
   "cell_type": "code",
   "execution_count": null,
   "id": "e587453f-8368-4035-9a25-b3fa8a713971",
   "metadata": {},
   "outputs": [],
   "source": [
    "from regression.m_and_c import m_and_c_plot\n",
    "\n",
    "m_and_c_plot()"
   ]
  },
  {
   "cell_type": "markdown",
   "id": "f81d7b17-2ad7-4676-a74e-23200c305348",
   "metadata": {},
   "source": [
    "(b) Der Python Code um den blauen Funktionsraphen zu erzeugen besteht im Gunde aus zwei Teilen:\n",
    "1. Die Definition des Funktionsgraphen mittels m und c\n",
    "2. Das visuelle Darstellen des Funktionsgraphen\n",
    "   \n",
    "Ergänze den fehlenden Code (# TODO...) und führe ihn anschließend aus um deine eigene Gerade zu zeichnen."
   ]
  },
  {
   "cell_type": "code",
   "execution_count": null,
   "id": "7447531f-458d-4e3b-adfe-7aafd94941bc",
   "metadata": {},
   "outputs": [],
   "source": [
    "import matplotlib.pyplot as plt\n",
    "import numpy as np\n",
    "\n",
    "\n",
    "def funktionsgraph(x):\n",
    "    # TODO definiere deine Funktionsgraphen: y = \n",
    "    return y\n",
    "\n",
    "def visualisieren():\n",
    "    x = np.linspace(-1, 11, 100)\n",
    "    y = funktionsgraph(x)\n",
    "    fig, ax = plt.subplots()\n",
    "    ax.plot(x, y, linewidth=2, color='tab:blue')\n",
    "    plt.xlim(0, 10)\n",
    "    plt.show()\n",
    "\n",
    "visualisieren()"
   ]
  },
  {
   "cell_type": "markdown",
   "id": "4f999655-2ac5-4637-a00d-5f9515a07575",
   "metadata": {},
   "source": [
    "# Machine Learning Klassifizierung von Bildern"
   ]
  },
  {
   "cell_type": "markdown",
   "id": "0da4a925-7aaf-4b7e-929f-cf3f00275168",
   "metadata": {},
   "source": [
    "Nachdem der Knopf gedrück wurde, öffnete sich ein Luftschacht. Schnell klettert ihr rein und beginnt zu rutschen. Nach kurzer Zeit landet ihr unsanft. \n",
    "\n",
    "**Sarah:** „Oh, ist das alles staubig hier – und so dunkel“\n",
    "\n",
    "Beep schaltet ein helles Licht ein.\n",
    "\n",
    "**Ben:** „Es scheint verlassen zu sein – was ist das hier?\"\n",
    "\n",
    "**Sarah:** „Es sieht aus wie ein Geheimarchiv! Schaut euch mal diese ganzen Blätter an! Die sind voller Daten!“\n",
    "\n",
    "<img src=\"images/classification/testing_doors/robot3_nr1_gef.png\" width=\"250\"/> <img src=\"images/classification/testing_doors/robot1_nr3_gef.png\" width=\"250\"/> <img src=\"images/classification/testing_doors/robot2_nr3_har.png\" width=\"250\"/>\n",
    "\n",
    "**Sarah:** \"Ich habe dort drüben Ordner gesehen, da stand etwas von Robotereigenschaften drauf. Lass uns die Ordner mal genauer anschauen.\""
   ]
  },
  {
   "cell_type": "markdown",
   "id": "739c6d40-3423-4a35-b3c7-4c7c95559948",
   "metadata": {},
   "source": [
    "**Sarah**: Der geheimnisvolle Ordner hat ein Schloss. Um ihn zu öffnen, brauchen wir den richtigen Zahlencode.\"\n",
    "\n",
    "Schaut auf dem Tisch liegt ein Blatt auf dem ein Zahlenrätsel steht.\n",
    "\n",
    "**Ben**: \"Gibt es ein Muster?\"\n",
    "\n",
    "**Sarah**: \"Wenn  wir den richtigen Code finden, können wir das Schloss öffnen und herausfinden, was im Ordner steht?\""
   ]
  },
  {
   "cell_type": "code",
   "execution_count": null,
   "id": "22cc4911-9d09-4577-a5ad-21d61755a59d",
   "metadata": {},
   "outputs": [],
   "source": [
    "from regression.password import password\n",
    "\n",
    "password(puzzle=False)"
   ]
  },
  {
   "cell_type": "markdown",
   "id": "10ab811a-c0b1-4770-a612-9781ccdfe241",
   "metadata": {},
   "source": [
    "**Ben:** \"Hier diese Zettel sind wirklich hilfreich. Sie enthalten Datenblätter mit folgenden Informationen:\"\n",
    "\n",
    "- `Bild`: Ein Bild des Roboters\n",
    "\n",
    "- `Name`: Der Name des Roboters\n",
    "\n",
    "- `Job`: Der Aufgabenbereich des Roboters\n",
    "\n",
    "**Sarah:** \"Und hier ist ein Blatt, mit dem wir erkennen können, welcher Aufgabenbereich für uns gefährlich ist.\"\n",
    "\n",
    "| Aufgabenbereich | Gefährlich oder harmlos | Deutsche Beschreibung des Jobs                            | \n",
    "| ------------------ | ----------------------- | --------------------------------------------------------------- | \n",
    "| Kinderbetreuung | Harmlos                 | Gut gelaunte kleine Roboter, die sich um kleine Kinder sorgen und sie unterhalten. | \n",
    "| Assistent mit Spezialisierung auf menschliche Interaktionen     | Harmlos              | Sorgen sich um das Wohl der Besucher. Beinhaltet unter Anderem die Versorgung mit Essen und Getränke, Wissensbereitstellung über das Intranet von TecVille und Führungen durch speziell für Menschen bereitgestellte Firmenbereiche.   | \n",
    "| Aufseher     | Gefährlich              | Besitzen zusätzlich zu den Funktionen der Assistenzroboter Waffensysteme zur Verteidigung der Firmengeheimnisse. Waffensysteme sind versteckt und werden erst bei Gefahr sichtbar. |\n",
    "\n",
    "\n",
    "**Sarah:** \"Das heißt, wenn ich diese Akte hier nehme ...\"\n",
    "\n",
    "<div style=\"border: 1px solid lightblue; width: fit-content; text-align: center; display: inline-block; padding: 5px;\">\n",
    "    <img src=\"images/classification/training/cute1.png\" width=\"122\"/>\n",
    "    <p>Name: Savannah</p>\n",
    "    <p>Job: Kinderbetreuung </p>\n",
    "</div>\n",
    "\n",
    "**Sarah:** \"... dann seh ich, dass dieser Roboter für die Betreuung von Kindern zuständig ist. Und auf dem Blatt mit den Berufen ist er als harmlos eingestuft.\""
   ]
  },
  {
   "cell_type": "code",
   "execution_count": null,
   "id": "a7975429-5300-4eb6-a2ac-20219d2685ed",
   "metadata": {
    "scrolled": true
   },
   "outputs": [],
   "source": [
    "from classification import *\n",
    "from classification import aufgabe\n",
    "\n",
    "aufgabe.part1()"
   ]
  },
  {
   "cell_type": "code",
   "execution_count": null,
   "id": "af495844-8089-4569-af2f-e2c6767a62dc",
   "metadata": {
    "scrolled": true
   },
   "outputs": [],
   "source": [
    "aufgabe.part2()"
   ]
  },
  {
   "cell_type": "markdown",
   "id": "df09c1bf-80c5-4839-a4c3-8abede65011c",
   "metadata": {},
   "source": [
    "Plötzlich flackern weitere rote Lichter auf, die den Raum in unheimliche Schatten tauchen und auf den kalten Metallwänden reflektieren. Ein schrilles Warnsignal ertönt, während sich kleine Drohnen in den Ecken aktivieren und rotierende Sensoren auf euch richten. Sarah zuckt zusammen, Ben hält den Atem an, und Beep beginnt hektisch seine Systeme zu überprüfen. Eine mechanische Stimme ertönt aus einem Lautsprecher:\n",
    "\n",
    "**Sicherheitskontrolle:** *\"Unerlaubter Zugriff festgestellt. Sicherheitsmaßnahmen werden eingeleitet.\"*&#x20;\n",
    "\n",
    "In der Ferne hört ihr das Summen der sich nähernden Sicherheitsroboter.\n",
    "\n",
    "**Sarah:** \"Uns rennt die Zeit davon. Gibt es nicht noch eine andere Möglichkeit als zu raten?\"\n",
    "\n",
    "**Ben:** \"Wir haben doch vorhin Regression verwendet um den Robotern zu entkommen. Können wir das nicht wieder versuchen?\"\n",
    "\n",
    "**Sarah:** \"Das ist eine super Idee! Aber was sollen wir denn für Daten nehmen? Wir brauchen ja irgendwelche Zahlen als Grundlage wie Beispielsweise die Größe der Roboter.\"\n",
    "\n",
    "**Ben:** \"Oh ja, das ist ein Problem. Wir wissen nur wie die Roboter aussehen und wollen wissen, ob sie gefährlich oder harmlos sind.\"\n",
    "\n",
    "**Sarah:** \"Das ist wirklich ein Problem. Wir könnten damit zum Beispiel die Armlänge oder die Geschwindigkeit des Roboters basierend auf der Körpergröße einschätzen, aber zum einen bringen uns die Werte nichts, wenn wir nicht wissen, ob wir uns vor dem Roboter in Acht nehmen müssen, zum anderen können wir die Größe des Roboters der uns gegenübersteht nur grob schätzen.\"\n",
    "\n",
    "**Ben:** \"Stimmt! Aber wir können ja ganz schnell Bilder von den Robotern machen und die dann als Grundlage verwenden. Und wir haben ja hier schon ganz viele Bilder aus den Akten und die Möglichkeit zu entscheiden, ob sie harmlos oder gefährlich sind.\"\n",
    "\n",
    "**Sarah:** \"Ja, aber die sehen alle gsich sehr ähnlich – aber es gibt vielleicht kleine Unterschiede! Beep, kennst du eine  Möglichkeit, mit den Bildern vorherzusagen, ob die Roboter harmlos oder gefährlich sind?\"\n",
    "\n",
    "**Beep:** \"Es gibt Machine Learning Modelle, die Bilder in Gruppen einordnen können.  Ich schaue mal, was es online so gibt …\"\n",
    "\n",
    "Nach ein paar Sekunden meldet sich Beep wieder:\n",
    "\n",
    "**Beep:** \"Es gibt leider kein Modell, was schon genau auf euer Problem trainiert wurde. Aber ich habe ein untrainiertes Modell gefunden, das wir benutzen können. Dieses können wir mit Hilfe der Akten trainieren. Dabei lernt das Modell, bestimmte Muster zu erkennen – zum Beispiel, woran man harmlose oder gefährliche Roboter unterscheiden kann.\n",
    "Solche Muster sind für uns Menschen manchmal schwer zu sehen – aber genau darin liegt die Stärke von maschinellem Lernen!\"\n",
    "\n",
    "**Ben:** \"Und wie können wir das Modell trainieren?\"\n",
    "\n",
    "**Beep:** \"Ganz einfach, ihr müsst nur die Bilder in die Gruppen harmlos und gefährlich einteilen und anschließend auf trainieren klicken. Danach lernt das Modell mit Hilfe eines komplizierten Algorithmus den Zusammenhange zwischen Aussehen und den Kategorien harmlos und gefährlich. Ich zeige euch für jeden Job jeweils fünf beispielhafte Bilder. Sonst wäre es zu unübersichtlich.\""
   ]
  },
  {
   "cell_type": "code",
   "execution_count": null,
   "id": "5990b8d3-4238-4380-b1b4-f37e0b309d35",
   "metadata": {},
   "outputs": [],
   "source": [
    "aufgabe.part3()"
   ]
  },
  {
   "cell_type": "markdown",
   "id": "79e75f96-4354-4bbb-abcf-055333880ed1",
   "metadata": {},
   "source": [
    "### Plötzlich erschüttert ein lauter Knall den Raum, gefolgt von metallischem Klirren – die Roboter nähern sich unaufhaltsam den Türen. Ihr spürt die Anspannung in der Luft.\n",
    "\n",
    "**Ben:**  (blickt besorgt auf die Ergebnisse): \"Irgendwas stimmt hier noch nicht … Können wir die Vorhersagen nicht irgendwie verbessern und was bedeutet überhaupt dieses 'mit einer Gewissheit von'?\"\n",
    "\n",
    "**Beep:**  \"Die Gewissheit gibt an wie sicher sich das Modell ist, ob ein Roboter harmlos oder gefährlich ist. Das Modell versucht also aus den Trainingsdaten zu lernen, welche Eigenschaften harmlose oder gefährliche Roboter haben. Zum Beispiel könnte es aus den Daten gelernt haben, dass Roboter mit großen Augen harmlos sind oder dass gelbe Roboter oft gefährlich sind. Es wertet alle diese analysierten Eigenschaften aus und trifft eine Entscheidung. Manchmal ist sich das Modell mehr and manchmal weniger sicher in seiner Entscheidung. Ähnlich wie bei euch Menschen.\"\n",
    "\n",
    "**Ben:** \"Das macht Sinn. Wie kann es allerdings sein, dass sich das Modell sehr sicher ist in seiner Entscheidung und trotzdem falsch liegt?\"\n",
    "\n",
    "**Beep:** \"Das kann mehrere Gründe haben: Zum einen machen auch sehr gut trainierte Modelle Fehler. Das lässt sich leider nicht immer vermeiden. Deshalb sollte das Ergebnis immer kritisch hinterfragt und wenn möglich getestet werden. Eine andere Möglichkeit ist, dass das Modell noch nicht den korrekten Zusammenhang zwischen Bildern und den Kategorien harmlos/gefährlich gelernt hat. Es hat also noch nicht verstanden, welche Eigenschaften harmlose und gefährliche Roboter haben.\"\n",
    "\n",
    "**Sarah:** \"Puh. Das ist wirklich kompliziert. Nehmen wir einmal an, dass unser Modell noch nicht die entscheidenden Eigenschaften gelernt hat, um harmlos von gefählich zu unterscheiden. Wie können wir das verbessern?\"\n",
    "\n",
    "**Beep:** \"Oft liegt das Problem an den Trainingsdaten. Je komplexer die Aufgabe, desto mehr Beispielbilder werden benötigt, um...\"\n",
    "\n",
    "**Sarah**: \"Können wir die Bilder der Kinderbetreuer nicht einfach entfernen? Die sind so einfach zu erkennen.\"\n",
    "\n",
    "**Beep:** \"Das ist eine hervoragende Idee. Übrigens ist es für euch eventuell einfach die Kinderbetreuer zu erkennen. Für das Modell ist das allerdings ziemlich schwierig, da wir nur wenige Beispielbilder haben und die Kinderbetreuer sich untereinander sehr stark im Aussehen unterscheiden. Das macht es schwierig für das Modell die Eigenschaften von Kinderbetreuern zu erkennen.\"\n",
    "\n",
    "**Sarah:** \"Oh und ich dachte Machine Learning ist immer besser als wir Menschen?\"\n",
    "\n",
    "**Beep:** \"Du hast zwar recht, dass Machine Learning Modelle in einigen Dingen deutlich besser sind als ihr Menschen. Aber Modelle müssen immer so trainiert werden, dass die Vorhersagen gut sind. Dazu benötigen sie meist sehr sehr viele Daten.\"\n",
    "\n",
    "**Sarah:**  (wirft einen nervösen Blick zur Tür): \"Die Roboter sind fast hier! Lasst uns die Kinderbetreuer aus den Daten nehmen und es erneut versuchen. Die Roboter, die uns die Ausgänge blockieren sind sowieso keine Kinderbetreuer.\"\n",
    "\n",
    "**Ben:**  (entschlossen): \"Lasst es uns versuchen!\"\n",
    "\n",
    "**Beep:** \"Gut. Wir wiederholen die vorherige Aufgabe und ignorieren die Kinderbetreuer.\""
   ]
  },
  {
   "cell_type": "code",
   "execution_count": null,
   "id": "12a4b2db-40c9-4f25-aae5-53da033aa2f8",
   "metadata": {},
   "outputs": [],
   "source": [
    "aufgabe.part4()"
   ]
  },
  {
   "cell_type": "markdown",
   "id": "f5818cfb-7e3a-445d-bd07-1aaa39674e4c",
   "metadata": {},
   "source": [
    "**Sarah:** \"Das ist immer noch genauso schlecht wie davor!\"\n",
    "\n",
    "**Beep:** \"Das stimmt leider. Manchmal gibt es mehrere Probleme und diese müssen alle gelöst werden, um gute Vorhersagen zu bekommen.\"\n",
    "\n",
    "**Ben:** \"Was können wir denn noch versuchen?\"\n",
    "\n",
    "**Beep:** \"Die Bilder enthalten oft relevante und nicht relevante Informationen. Zum Beispiel ist der Hintergrund nicht relevant, um die Roboter als harmlos oder gefährlich einzustufen.\"\n",
    "\n",
    "**Sarah:** \"Ah und diese nicht relevanten Informationen macht es wieder kompizierter für das Modell zu lernen?\"\n",
    "\n",
    "**Beep:** \"Genau! Ich entferne schnell die Hintergründe und wir versuchen es noch einmal.\"\n",
    "\n",
    "**Ben:** \"Wirklich? Ist der Hintergrund so entscheidend?\"\n",
    "\n",
    "**Beep:** \"Möglicherweise. Er nimmt immerhin fast die Hälfte von jedem Bildes ein. Es wäre doch ziemlich schlecht, wenn das Modell zum Beispiel immer denkt, dass ein Roboter gefährlich ist, nur weil der Hintergrund dunkel ist.\"\n",
    "\n",
    "**Ben:** \"Gut...Letzter Versuch.\"\n",
    "\n",
    "**Beep:** \"Kategorisiert die Roboter erneut in gefährlich und harmlos. Stellt danach eine Vermutung auf, wie das Weglassen der Hintergründe die Vorhersage beeinflussen wird.\""
   ]
  },
  {
   "cell_type": "code",
   "execution_count": null,
   "id": "fc333e4a-17e6-45b2-bda5-8d8355d2dafc",
   "metadata": {},
   "outputs": [],
   "source": [
    "aufgabe.part5()"
   ]
  },
  {
   "cell_type": "markdown",
   "id": "e878e0eb-fb55-4c5c-a949-bbd67590755c",
   "metadata": {},
   "source": [
    "Ihr erreicht eine verschlossene Tür mit einem Terminal. Die roten Lichter der Sicherheitsroboter tanzen über den kalten Metallboden, ihr mechanisches Surren kommt immer näher. Das Modell muss jetzt eine Entscheidung treffen – und ihr müsst darauf vertrauen, dass es die richtige ist.\n",
    "\n",
    "**Ben:**  (zögert, während er auf das Terminal starrt): \"Können wir uns wirklich darauf verlassen? Was, wenn es sich irrt?\"\n",
    "\n",
    "**Sarah:**  (blickt angespannt auf die Daten): \"Wir können nur so sicher sein, wie unsere Daten und unser Training es erlauben. Kein Modell ist perfekt.\"\n",
    "\n",
    "**Beep:**  (mit ernster Stimme): \"Ganz genau! Ein Modell trifft seine Entscheidung immer auf Basis von Wahrscheinlichkeiten – das heißt, es kann auch falsch liegen. Deshalb haben wir es mit so vielen Daten wie möglich getestet, um die Unsicherheit zu minimieren.\"\n",
    "\n",
    "Beep hält einen Moment inne, während das Modell die Analyse durchführt.\n",
    "\n",
    "**Beep:**  \"Das ist der beste Stand, den wir erreichen konnten. Jetzt liegt es an euch. Entscheidet mit dem, was ihr gelernt habt.\""
   ]
  },
  {
   "cell_type": "markdown",
   "id": "54555f0d-5f5c-4b29-8307-894e3d54dba6",
   "metadata": {},
   "source": [
    "<span style=\"color:red\"> </span>"
   ]
  },
  {
   "cell_type": "code",
   "execution_count": null,
   "id": "9e609f00-3ba3-47c8-803a-d6f339b7fcda",
   "metadata": {},
   "outputs": [],
   "source": [
    "aufgabe.part6()"
   ]
  },
  {
   "cell_type": "markdown",
   "id": "2f7852e1-cf5c-4728-bd2c-1c3b15a99981",
   "metadata": {},
   "source": [
    "**Als ihr die Tür öffnet, begrüßt euch der Roboter freundlich – doch ihr zögert nicht. Ihr stürmt hinaus: durch dunkle Gänge, über eine verrostete Notfallleiter und schließlich durch einen Seitenausgang ins Freie.**\n",
    "\n",
    "Draußen blendet euch das grelle Sonnenlicht. Ihr atmet erleichtert auf – ihr habt es geschafft.\n",
    "\n",
    "Ben schlägt vor, zu ihm nach Hause zu gehen.\n",
    "\n",
    "Wenig später liegt das geheimnisvolle Tablet auf dem Wohnzimmertisch.\n",
    "\n",
    "**Sarah**: \"Lass uns endlich herausfinden, was auf diesem Tablet gespeichert ist.\"\n",
    "\n",
    "Auf dem Bildschirm erscheinen Nachrichtenclips und Bilder – vertraut und doch seltsam verändert. Eine euch bekannte Rede über Roboter, gehalten von einer beliebten Politikerin. Aber diesmal spricht kein Mensch. Es ist ein Roboter.\n",
    "\n",
    "**Ben**: \"Moment mal! Diese Rede hat doch Frau Wichtigstein gehalten, oder nicht?\"\n",
    "\n",
    "**Beep**: \"Das hier scheinen die Originalaufnahmen zu sein. Künstliche Intelligenz hat einfach das Gesicht von Frau Wichtigstein darübergelegt. So haben die Roboter es geschafft, unser Vertrauen zu gewinnen – und schließlich die Macht, über uns zu entscheiden.\"\n",
    "\n",
    "**Sarah**: \"Aber warum? Warum sollte jemand so etwas tun?\"\n",
    "\n",
    "**Beep**: \"Die Roboter wollten, dass die Menschen glauben, sie seien harmlos. Und niemand hat mehr nachgefragt, als es zu spät war.\"\n",
    "\n",
    "Nachdenkliches Schweigen. Die Kinder schauen sich an. Sie verstehen: Nicht alles, was echt aussieht, ist wirklich wahr.\n",
    "\n",
    "**Beep**: \"Im Zeitalter der Daten ist die Wahrheit manchmal schwer zu erkennen – und gerade deshalb so wichtig.\"\n",
    "\n",
    "**Ben**: \"Wir sollten als Menschen  maschinelles Lernen und die Entwicklung von künstlicher Intelligenz insgesamt stark bremsen, damit wir immer die Kontrolle behalten und keine gefährlichen Fehler gemacht werden.\"\n",
    "\n",
    "**Sarah**: \"Aber kann man technischen Fortschritt überhaupt einfach aufhalten? Vielleicht müssten wir eher lernen, besser damit umzugehen – statt ihn zu verbieten, er hat uns heute auch geholfen\"\n",
    "\n",
    "**Beep**: \"Oder hätte man den Maschinen von Anfang an klare ethische Grenzen setzen müssen? Vielleicht liegt der Fehler gar nicht in der Technik, sondern im Umgang der Menschen mit ihr.\"\n",
    "\n",
    "Ein Moment der Stille. Jeder denkt über das Gesagte nach.\n",
    "\n",
    "**Sarah**: \"Was hätten die Menschen damals tun können, um das zu verhindern?\"\n",
    "\n",
    "**Ben**: \"Und wie sollen wir heute mit solchen Technologien umgehen – bevor es wieder zu spät ist?\"\n",
    "\n",
    "Das Tablet wird stumm. Doch die Fragen bleiben.\n",
    "\n",
    "**Die Wahrheit zu finden, war nur der Anfang.**"
   ]
  },
  {
   "cell_type": "markdown",
   "id": "02986744-afeb-4aaa-94e5-fe33d4871fb8",
   "metadata": {},
   "source": [
    "## Zusatzaufgabe 3: Roboter-Bilder mit KI erkennen lassen\n",
    "---\n",
    "\n",
    "In dieser Aufgabe wirst du ein eigenes Klassifikationssmodell zur Unterscheidung von Robotern trainieren. Wir haben dafür bereits Bilder vorbereitet. Lade diese zuerst von (LINK) herunter und schaue dir die Bilder genau an.\n",
    "\n",
    "Ordne die Roboterbilder anschließend in zwei Klassen ein (nicht alle Bilder müssen verwendet werden).  \n",
    "Überlege dir ein Merkmal, das du zur Unterscheidung nutzen willst z.B. Farbe  \n",
    "Class 1: Roboter mit roter Farbe  \n",
    "Class 2: Roboter mit gelber Farbe\n",
    "\n",
    "Gehe nun auf [Teachable Machine](https://teachablemachine.withgoogle.com/train/image) und lade die entsprechenden Bilder mittels \"Upload\" hoch.\n",
    "\n",
    "Klicke auf \"Train Model\", damit das Modell aus den Beispielen lernt.\n",
    "\n",
    "Nutze neue Roboterbilder, um zu prüfen, ob die KI richtig erkennt, zu welcher Klasse das Bild gehört.\n",
    "\n",
    "Hat die KI richtig erkannt zu welcher Klasse das Bild gehört?  \n",
    "Wo lagen die Stärken der KI? Wo hatte sie Schwierigkeiten?  \n",
    "Wie verändert sich die Erkennung, wenn du sehr wenige oder sehr viele Beispiele verwendest?\n"
   ]
  },
  {
   "cell_type": "markdown",
   "id": "82781c11-08c8-451b-a036-9e1c44c07ad1",
   "metadata": {},
   "source": [
    "## Zusatzaufgabe 4: Roboter-Datenbank auffüllen\n",
    "---\n",
    "Stell dir vor, du bist ein Roboter-Designer!  \n",
    "In der Liste siehst du Roboter, bei denen wichtige Informationen fehlen, sie sind mit „NaN“ markiert.  \n",
    "Ergänze für jeden Roboter einen Namen, eine Farbe, einen Job und eine Bewegungsart.  \n",
    "Verwende dafür die vorgegebenen Listen unten.  \n",
    "\n",
    "| Was?       | Welche Möglichkeiten gibt es?              |\n",
    "|------------|--------------------------------------------|\n",
    "| **Name**   | TidyBot, MedAssist, FlyerX, CleanMaster     |\n",
    "| **Farbe**  | Silber, Weiß, Gelb, Rot                    |\n",
    "| **Job**    | Haushalt, Medizin, Industrie, Unterhaltung |\n",
    "| **Bewegung** | Räder, Beine, Fliegen, Stationär          |\n",
    "\n",
    "Das hast du am Ende:\n",
    "Eine tolle Roboter-Datenbank, die vollständig und richtig ist!  \n",
    "Außerdem bekommst du eine kleine „Roboter-Suchmaschine“ (eine Funktion), mit der du alle Roboter finden kannst, die du willst: „Zeig mir alle Roboter, die fliegen!“ oder „Welche Roboter helfen in der Medizin?“"
   ]
  },
  {
   "cell_type": "code",
   "execution_count": null,
   "id": "2a11f0b3-85e3-48ae-bda1-4fde6b66a6d2",
   "metadata": {},
   "outputs": [],
   "source": [
    "import ipywidgets as widgets\n",
    "from IPython.display import display\n",
    "\n",
    "# Header\n",
    "headers = ['Name', 'Farbe', 'Job', 'Bewegungsart']\n",
    "header_row = [widgets.Label(value=h, layout=widgets.Layout(width=\"150px\")) for h in headers]\n",
    "header_ui = [widgets.HBox(header_row, layout=widgets.Layout(border=\"1px solid gray\"))]\n",
    "\n",
    "# Table cells\n",
    "rows, cols = 5, 4\n",
    "table = [[widgets.Text(placeholder=f\"NaN\", layout=widgets.Layout(width=\"150px\")) \n",
    "          for c in range(cols)] for r in range(rows)]\n",
    "row_widgets = [widgets.HBox(row) for row in table]\n",
    "\n",
    "# Build Table\n",
    "table_ui = widgets.VBox(header_ui + row_widgets)\n",
    "\n",
    "# Search field + button\n",
    "search_text = widgets.Text(placeholder=\"Suchbegriff eingeben\")\n",
    "search_button = widgets.Button(description=\"Suchen\")\n",
    "search_box = widgets.HBox([search_text, search_button])\n",
    "\n",
    "# Output handling\n",
    "out = widgets.Output()\n",
    "\n",
    "# Display everything\n",
    "ui = widgets.VBox([table_ui, search_box, out])\n",
    "display(ui)\n",
    "\n",
    "# --- Example search handler ---\n",
    "def on_search_clicked(b):\n",
    "    query = search_text.value.strip().lower()\n",
    "    if not query:\n",
    "        with out:\n",
    "            out.clear_output()\n",
    "            display(\"Bitte Suchtext eingeben\")\n",
    "        return\n",
    "    \n",
    "    found_rows = []\n",
    "    non_found_rows = []\n",
    "\n",
    "    for r, row in enumerate(table):\n",
    "        row_texts = [cell.value.lower() for cell in row]\n",
    "        if any(query in text for text in row_texts):\n",
    "            found_rows.append(row_widgets[r])\n",
    "        else:\n",
    "            non_found_rows.append(row_widgets[r])\n",
    "\n",
    "    if found_rows:\n",
    "        with out:\n",
    "            out.clear_output()\n",
    "        # Rebuild table with matches on top\n",
    "        table_ui.children = tuple(header_ui + found_rows + non_found_rows)\n",
    "    else:\n",
    "        with out:\n",
    "            out.clear_output()\n",
    "            display(\"Kein Ergebnis gefunden.\")\n",
    "\n",
    "search_button.on_click(on_search_clicked)\n"
   ]
  }
 ],
 "metadata": {
  "kernelspec": {
   "display_name": "Python 3 (ipykernel)",
   "language": "python",
   "name": "python3"
  },
  "language_info": {
   "codemirror_mode": {
    "name": "ipython",
    "version": 3
   },
   "file_extension": ".py",
   "mimetype": "text/x-python",
   "name": "python",
   "nbconvert_exporter": "python",
   "pygments_lexer": "ipython3",
   "version": "3.10.12"
  }
 },
 "nbformat": 4,
 "nbformat_minor": 5
}
