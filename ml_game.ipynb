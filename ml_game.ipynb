{
 "cells": [
  {
   "cell_type": "markdown",
   "id": "d4399547-d995-4a0c-a717-d7a421c531b7",
   "metadata": {},
   "source": [
    "# Machine Learning Escape Game\n",
    "---"
   ]
  },
  {
   "cell_type": "code",
   "execution_count": null,
   "id": "7f021e59-795d-45b2-8265-458db38ce7c6",
   "metadata": {},
   "outputs": [],
   "source": [
    "import sys\n",
    "import os\n",
    "\n",
    "%matplotlib widget\n",
    "\n",
    "sys.path.append(os.path.abspath(\"src\"))\n",
    "\n",
    "from regression.linear_regression import plot_data, lineare_regression\n",
    "\n",
    "plot_data()"
   ]
  },
  {
   "cell_type": "markdown",
   "id": "b355b439-2e84-4bd9-bf2a-01fbe9165c19",
   "metadata": {},
   "source": [
    "### Aufgabe: Welche ist die beste Gerade?\n",
    "\n",
    "Verändere die Schieberegler so, dass ein möglichst kleiner Abstand von der Geraden zu den Datenpunkten entsteht. Um dies besser abschätzen zu können, wird automatisch ein Fehlerwert berechnet. Je kleiner der Fehlerwert ist, desto besser ist die Gerade. Die beste Gerade kann durch einen Klick auf 'Zeige Gerade' angezeigt werden."
   ]
  },
  {
   "cell_type": "code",
   "execution_count": null,
   "id": "f41c0c17-facd-4fa5-bc57-acbae2c2e4a9",
   "metadata": {},
   "outputs": [],
   "source": [
    "lineare_regression()"
   ]
  },
  {
   "cell_type": "markdown",
   "id": "2cb3863b-3e2b-48ed-992e-9c820fb8d693",
   "metadata": {},
   "source": [
    "## Aufgabe: Was sind lineare Zusammenhänge?\n",
    "\n",
    "Hilf Ben und Sarah und markiere alle Beispiele für lineare Zusammenhänge. Wenn du bereit bist, drücke auf \"Auswerten\".\n"
   ]
  },
  {
   "cell_type": "code",
   "execution_count": null,
   "id": "1708da23-fab5-4b24-9f37-3e8e849adf53",
   "metadata": {},
   "outputs": [],
   "source": [
    "from regression.linear_relations import linear_relations\n",
    "\n",
    "linear_relations()"
   ]
  },
  {
   "cell_type": "markdown",
   "id": "2259fdc8-3489-4bcf-b170-e6ee1e7588fd",
   "metadata": {},
   "source": [
    "## Aufgabe: Flucht in die Freiheit\n",
    "\n",
    "Schaue dir das Schaubild an. Wer von ihnen sollte rennen, um den Knopf zu drücken – Ben oder Sarah?  \n",
    "Erkläre, wer deiner Meinung nach bessere Chancen hat, den Robotern zu entkommen, und warum."
   ]
  },
  {
   "cell_type": "code",
   "execution_count": null,
   "id": "285c9139",
   "metadata": {},
   "outputs": [],
   "source": [
    "from regression.linear_regression import zeige_lineare_regression\n",
    "zeige_lineare_regression()"
   ]
  },
  {
   "cell_type": "markdown",
   "id": "f09d9d67-65dd-4c53-9c5a-822919f8fcd7",
   "metadata": {},
   "source": [
    "## Aufgabe: Wie gut kannst du raten?"
   ]
  },
  {
   "cell_type": "code",
   "execution_count": null,
   "id": "af495844-8089-4569-af2f-e2c6767a62dc",
   "metadata": {
    "scrolled": true
   },
   "outputs": [],
   "source": [
    "from classification import *\n",
    "from classification import aufgabe\n",
    "\n",
    "aufgabe.part1()"
   ]
  },
  {
   "cell_type": "markdown",
   "id": "e61d613c-7dc5-4d82-8d21-4b9bf7ff40d8",
   "metadata": {},
   "source": [
    "## Aufgabe: Modell trainieren 1"
   ]
  },
  {
   "cell_type": "code",
   "execution_count": null,
   "id": "5990b8d3-4238-4380-b1b4-f37e0b309d35",
   "metadata": {},
   "outputs": [],
   "source": [
    "aufgabe.part2()"
   ]
  },
  {
   "cell_type": "markdown",
   "id": "2b9ea213-5b0e-463d-ad66-84d5d83b4598",
   "metadata": {},
   "source": [
    "## Aufgabe: Modell trainieren 2"
   ]
  },
  {
   "cell_type": "code",
   "execution_count": null,
   "id": "12a4b2db-40c9-4f25-aae5-53da033aa2f8",
   "metadata": {},
   "outputs": [],
   "source": [
    "aufgabe.part3()"
   ]
  },
  {
   "cell_type": "markdown",
   "id": "278ffec2-5787-47f5-a676-00248f8039a6",
   "metadata": {},
   "source": [
    "## Aufgabe: Modell trainieren 3"
   ]
  },
  {
   "cell_type": "code",
   "execution_count": null,
   "id": "fc333e4a-17e6-45b2-bda5-8d8355d2dafc",
   "metadata": {},
   "outputs": [],
   "source": [
    "aufgabe.part4()"
   ]
  },
  {
   "cell_type": "markdown",
   "id": "54555f0d-5f5c-4b29-8307-894e3d54dba6",
   "metadata": {},
   "source": [
    "<span style=\"color:red\"> </span>"
   ]
  },
  {
   "cell_type": "markdown",
   "id": "4b740bee-8bb5-4e57-b0e2-09db88b8d23f",
   "metadata": {},
   "source": [
    "## Aufgabe: Welche Tür wählst du?"
   ]
  },
  {
   "cell_type": "code",
   "execution_count": null,
   "id": "9e609f00-3ba3-47c8-803a-d6f339b7fcda",
   "metadata": {},
   "outputs": [],
   "source": [
    "aufgabe.part5()"
   ]
  }
 ],
 "metadata": {
  "kernelspec": {
   "display_name": "Python 3 (ipykernel)",
   "language": "python",
   "name": "python3"
  },
  "language_info": {
   "codemirror_mode": {
    "name": "ipython",
    "version": 3
   },
   "file_extension": ".py",
   "mimetype": "text/x-python",
   "name": "python",
   "nbconvert_exporter": "python",
   "pygments_lexer": "ipython3",
   "version": "3.10.12"
  }
 },
 "nbformat": 4,
 "nbformat_minor": 5
}
