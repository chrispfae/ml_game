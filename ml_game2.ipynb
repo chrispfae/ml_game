{
 "cells": [
  {
   "cell_type": "markdown",
   "id": "d4399547-d995-4a0c-a717-d7a421c531b7",
   "metadata": {},
   "source": [
    "# Machine Learning Escape Game\n",
    "---"
   ]
  },
  {
   "cell_type": "markdown",
   "id": "e529d145-fa81-4a9e-90d5-2694110b74e0",
   "metadata": {},
   "source": [
    "# Regression"
   ]
  },
  {
   "cell_type": "markdown",
   "id": "e7aa1f6a-8966-4290-808b-fb17c94a11ac",
   "metadata": {
    "jp-MarkdownHeadingCollapsed": true
   },
   "source": [
    "<div style=\"display: flex; align-items: flex-start; gap: 2rem;\">\n",
    "  <div style=\"flex: 1;\">\n",
    "    <p style=\"margin-bottom: 1rem;\">\n",
    "      „Juhuu!“, ruft ihr erleichtert, als sich der Bildschirm öffnet. Doch plötzlich öffnen sich die Türen des Raums, mehrere Roboter blockieren die Ausgänge hinter euch und kommen auf euch zu. Sie sehen alles andere als freundlich aus. Nervös schaut ihr euch an, während Beep hektisch den ganzen Raum absucht und seine Leuchten wild flackern.\n",
    "    </p>\n",
    "    <p>\n",
    "      Ihr dreht euch wieder zu den Robotern um und analysiert die Situation. Die Roboter stürmen auf euch zu und teilen sich geschickt auf euch auf.\n",
    "    </p>\n",
    "  </div>\n",
    "  <img src=\"images/ml_intro/Roboter_Raum1.jpg\" alt=\"roterKnopf\" style=\"width: 20%;\"/>\n",
    "</div>\n",
    "\n",
    "<div style=\"display: flex; align-items: flex-start; gap: 2rem;\">\n",
    "  <div style=\"flex: 1;\">\n",
    "    <p style=\"margin-bottom: 1rem;\">\n",
    "      <strong>Beep:</strong> \"Ihr müsst hier schnell raus! Ich habe einen Luftschacht gefunden, durch den ihr entkommen könnt. Aber dazu müsst ihr den roten Knopf erreichen, um den Luftschacht zu öffnen.\"\n",
    "    </p>\n",
    "    <p>\n",
    "      <strong>Sarah:</strong> \"Die Roboter wollen uns fangen und der schnellste Roboter scheint es auch auf die schnellste Person abgesehen zu haben! Aber woher wissen die Roboter, wer von uns wie schnell ist?\"\n",
    "    </p>\n",
    "  </div>\n",
    "  <img src=\"images/ml_intro/red_button.jpg\" alt=\"roterKnopf\" style=\"width: 20%;\"/>\n",
    "</div>\n",
    "\n",
    "**Ben:** \"Ich glaube sie denken, dass diejenigen von uns, die größer sind, auch schneller rennen können!\n",
    "\n",
    "**Beep:** \"Vermutlich berechnen sie wie schnell ihr seid. Ich habe online einen Datensatz gefunden mit der Körpergröße und Geschwindigkeit von über 20 Kindern. Hier, schaut es euch selbst an. Jeder blaue Punkt stellt die Körpergröße und Geschwindigkeit von eines Kindes dar.\" "
   ]
  },
  {
   "cell_type": "code",
   "execution_count": null,
   "id": "7f021e59-795d-45b2-8265-458db38ce7c6",
   "metadata": {},
   "outputs": [],
   "source": [
    "import sys\n",
    "import os\n",
    "\n",
    "%matplotlib widget\n",
    "\n",
    "sys.path.append(os.path.abspath(\"src\"))\n",
    "\n",
    "from regression.linear_regression import plot_data, lineare_regression\n",
    "\n",
    "plot_data()"
   ]
  },
  {
   "cell_type": "markdown",
   "id": "b355b439-2e84-4bd9-bf2a-01fbe9165c19",
   "metadata": {},
   "source": [
    "**Sarah:** \"Ah, ich verstehe. Anhand der Daten sehe ich, dass eine größere Person normalerweise auch schneller ist. Aber ich verstehe immer noch nicht, wie sie meine Geschwindigkeit bestimmen können. Ich bin 145 cm groß und dafür gibt es überhaupt keine Daten.\"\n",
    "\n",
    "**Beep:** \"Das stimmt. Aber du könntest versuchen, eine gerade Linie durch die Datenpunkte zu legen. Die Gerade sollte dabei so gut es geht zwischen allen Werten liegen, also nach oben und unten einen möglichst kleinen Abstand zu den Datenpunkten haben.\"\n",
    "\n",
    "**Ben:** \"Das können wir probieren! Und danach können wir direkt von der Geraden ablesen, wie schnell eine Person mit einer bestimmten Körpergröße warscheinlich ist. Auch für dich Sarah!\"\n"
   ]
  },
  {
   "cell_type": "markdown",
   "id": "72fba953-31ed-4498-9dd2-4754f7e1dcba",
   "metadata": {},
   "source": [
    "## Aufgabe\n",
    "---\n",
    "Wenn dir lineare Funktionen bereits ein Begriff sind, darfst du direkt mit der nächsten Aufgabe weitermachen. Falls nicht, hole dir bitte vorne ein Arbeitsblatt und bearbeite dieses zuerst."
   ]
  },
  {
   "cell_type": "markdown",
   "id": "ef8a0028-af39-468b-a346-8593477fd450",
   "metadata": {},
   "source": [
    "## Aufgabe\n",
    "---\n",
    "Verändere die Steigung und den y-Achsen Abschnitt der Geraden so, dass ein möglichst kleiner Abstand von der Geraden zu den Datenpunkten entsteht. Um dies besser abschätzen zu können, wird automatisch der Fehlerwert berechnet, indem die Abstände von jedem Punkt zur Gerade quadriert und aufsummiert werden. Je kleiner also der Fehlerwert ist, desto besser ist die Gerade platziert. Die beste Gerade kann durch einen Klick auf 'Zeige Regressionsgerade' angezeigt werden."
   ]
  },
  {
   "cell_type": "code",
   "execution_count": null,
   "id": "f41c0c17-facd-4fa5-bc57-acbae2c2e4a9",
   "metadata": {},
   "outputs": [],
   "source": [
    "lineare_regression()"
   ]
  },
  {
   "cell_type": "markdown",
   "id": "109a55ea-9d6d-45c4-b632-9c637a6aa7d8",
   "metadata": {
    "jp-MarkdownHeadingCollapsed": true
   },
   "source": [
    "Die Daten können sehr gut mit einer Geraden beschrieben werden. Das bedeutet, dass der Zusammenhang zwischen der Körpergröße und der Geschwindigkeit ziemlich sicher linear ist. Eine gleiche Veränderung in x-Richtung führt also immer zu einer Veränderung um einen festen Wert in y-Richtung. In unserem Beispiel ist eine um 1 cm größere Person normalerweise auch um 0.33 km/h schneller, wenn man eine optimale Gerade annimmt."
   ]
  },
  {
   "cell_type": "markdown",
   "id": "2cb3863b-3e2b-48ed-992e-9c820fb8d693",
   "metadata": {},
   "source": [
    "**Sarah:** \"Interessant! Mit Hilfe der Geraden kann ich jetzt auch Werte für meine Körpergröße ablesen.\"\n",
    "\n",
    "**Ben:** \"Ja schon, aber wie wurde die optimale Gerade bestimmt?\"\n",
    "\n",
    "**Beep:** \"Die optimale Gerade habe ich mit einer linearen Regression bestimmt. Schaue dir dazu die folgende Abbildung an.\"\n",
    "\n",
    "<img src=\"images/ml_intro/ML-Input-Output.png\" alt=\"Graph\" style=\"width: 40%; display: block; margin: auto;\"/>\n",
    "<br>\n",
    "\n",
    "\"In unserem Beispiel sehen die Roboter unsere Körpergrößen und bestimmen daraus unsere Geschwindigkeit. Die Körpergröße ist also die Eingabe und die Geschwindigkeit die Ausgabe.\"\n",
    "\n",
    "**Sarah:** \"Ja, schon klar, das hatten wir schon. Aber wie funktioniert es genau?\"\n",
    "\n",
    "**Beep:** \"Geduld. Jeder Roboter sammelt Datenpunkte, die blauen Punkte in der Abbildung oben. Jeder dieser Punkte besteht aus zusammengehörigen Ein- und Ausgabewerten. Ein Datenpunkt ist zum Beispiel die Körpergröße und die Geschwindigkeit von Hanna. Insgesamt haben die Roboter nicht nur die Daten von Hanna, sondern auch von Hans, Laura und vielen weiteren Personen. All diese Datenpunkte werden verwendet, um den Zusammenhang zwischen Körpergröße und Geschwindigkeit zu lernen...\"\n",
    "\n",
    "<img src=\"images/ml_intro/ML-Training.png\" alt=\"Graph\" style=\"width: 25%; display: block; margin: auto;\"/>\n",
    "<br>\n",
    "\n",
    "\"In unserem Beispiel nehmen die Roboter an, dass die Geschwindigkeit mit der Körpergröße steigt und zwar linear. Linear bedeutet: Für jeden zusätzlichen Zentimeter Körpergröße ändert sich die Geschwindigkeit um einen festen Betrag. Ein linearer Zusammenhang kann sehr gut mit einer Geraden, die die allgemeine Form `Output = m * Input + c` hat, beschrieben werden. Jetzt werden die Werte für `m` und `c` so bestimmt, dass die Gerade möglichst nahe an den Datenpunkten liegt. Den Prozess, die besten Werte für `m` und `c` zu bestimmen nennt man auch Training.\"\n",
    "\n",
    "Für jeden zusätzlichen Zentimeter Körpergröße ändert sich die Geschwindigkeit um einen festen Betrag.\n",
    "\n",
    "<img src=\"images/ml_intro/ML-Training_combined.png\" alt=\"Graph\" style=\"width: 25%; display: block; margin: auto;\"/>\n",
    "<br>\n",
    "\n",
    "**Ben:** \"Verstehe! Bestimmen die Roboter die Gerade auch durch ausprobieren?\"\n",
    "\n",
    "**Beep:** \"Bei einer Geraden gibt es zwei Möglichkeiten. Die erste Möglichkeit ist, die Werte für `m`und `c` exakt zu berechnen, sodass der Fehler möglichst gering ist. Dazu bestimmt man mathematisch die Werte für `m` und `c`, bei denen der Fehler minimal ist. \n",
    "\n",
    "Die zweite Möglichkeit ist – wie du schon vermutet hast – ein schrittweises Ausprobieren. Dabei startet man mit zufälligen Werten für `m` und `c` und versucht dann mithilfe bestimmter Verfahren (beispielsweise dem Gradientenabstiegsverfahren), den Fehler systematisch zu verringern. Wird der Fehler von Versuch zu Versuch kleiner, ist das ein Zeichen dafür, dass der Prozess in die richtige Richtung läuft – also macht man weiter. Am Ende entsteht so ein Modell, also eine Geradengleichung, die möglichst genau zu den vorhandenen Daten passt. Das Training endet, wenn die Gerade genau genug ist oder wenn eine bestimmte Anzahl an Versuchen durchgeführt wurde.\n",
    "\n",
    "Du kannst auch noch einmal nach oben schauen: Die optimale Gerade der Roboter hatte die Werte `m = 0,33` und `c = -25,74`.\"\n",
    "\n",
    "<img src=\"images/ml_intro/ML-Modell.png\" alt=\"Graph\" style=\"width: 40%; display: block; margin: auto;\"/>\n",
    "<br>\n",
    "\n",
    "**Beep:** \"Die bestimmte Gerade kann nun verwendet werden, um Vorhersagen zu treffen. Also dazu, für beliebige Körpergrößen die Geschwindigkeit zu berechnen.\"\n",
    "\n",
    "**Ben:** \"Hmm... ich bin zwar nicht besonders groß, nur 150 cm, aber trotzdem sehr schnell. Das heißt, bei mir hätten die Roboter nicht recht.\"\n",
    "\n",
    "**Beep:** \"Das stimmt! Wenige Personen entsprechen genau der Geraden, es gibt immer Fälle, in denen Personen für ihre Körpergröße besonders schnell oder langsam sind. Die Gerade des Modells macht jedoch bei vielen Personen insgesamt den kleinsten Fehler. Das heißt aber auch, dass sie bei jemandem wie dir die Geschwindigkeit nicht perfekt vorhersagen können. Aber hätten wir 100 Kinder, die so groß sind wie du, und wir würden die Geschwindigkeit dieser Kinder messen, dann würden die Datenpunkte der meisten Kinder sehr nah an der Geraden liegen und die Datenpunkte weniger Kinder weit weg, so wie bei dir.\""
   ]
  },
  {
   "cell_type": "markdown",
   "id": "00890f2b",
   "metadata": {},
   "source": [
    "## Aufgabe: Flucht in die Freiheit\n",
    "---\n",
    "\n",
    "<div style=\"display: flex; align-items: flex-start; gap: 2rem;\">\n",
    "  <div style=\"flex: 1;\">\n",
    "    <p style=\"margin-bottom: 1rem;\">\n",
    "      <strong>Sarah:</strong> \"Das ist ja alles schön und gut, aber wir wissen immer noch nicht, wer von uns diesen Knopf drücken soll.\"\n",
    "    </p>\n",
    "    <p>\n",
    "      <strong>Beep:</strong> \"Ich zeige euch noch einmal die Daten von vorhin und habe auch eure Daten nun in die Abbildung eingezeichnet.\"\n",
    "    </p>\n",
    "  </div>\n",
    "  <img src=\"images/ml_intro/red_button.jpg\" alt=\"roterKnopf\" style=\"width: 20%;\"/>\n",
    "</div>\n"
   ]
  },
  {
   "cell_type": "markdown",
   "id": "a42e5c08-8c49-4bd2-a57d-1577e17d2ed0",
   "metadata": {},
   "source": [
    "Schaue dir die Abbildung an. Wer von ihnen sollte rennen, um den Knopf zu drücken – Ben oder Sarah?  \n",
    "Begründe deine Entscheidung anhand der Abbildung. Erkläre, wer deiner Meinung nach bessere Chancen hat, den Robotern zu entkommen, und warum."
   ]
  },
  {
   "cell_type": "code",
   "execution_count": null,
   "id": "285c9139",
   "metadata": {},
   "outputs": [],
   "source": [
    "from regression.linear_regression import zeige_lineare_regression\n",
    "zeige_lineare_regression()"
   ]
  },
  {
   "cell_type": "markdown",
   "id": "ff83634b-c103-4d75-8989-3a5808a21f19",
   "metadata": {},
   "source": [
    "## Aufgabe\n",
    "---\n",
    "\n",
    "Sarah, Ben und Beep haben nun bestimmt, wer rennen muss, damit sie entkomen.  \n",
    "Nun fragt **Sarah:** \"Gibt es noch mehr Beispiele für lineare Zusammenhänge? Was könnte man mit einer Geraden noch gut vorhersagen?\"\n",
    "\n",
    "Hilf Ben und Sarah und markiere alle Beispiele für lineare Zusammenhänge. Wenn du bereit bist, drücke auf \"Auswerten\".\n"
   ]
  },
  {
   "cell_type": "code",
   "execution_count": null,
   "id": "1708da23-fab5-4b24-9f37-3e8e849adf53",
   "metadata": {},
   "outputs": [],
   "source": [
    "from regression.linear_relations import linear_relations\n",
    "\n",
    "linear_relations()"
   ]
  },
  {
   "cell_type": "markdown",
   "id": "4b9d789b-bba7-4988-9f25-adcb800135ec",
   "metadata": {},
   "source": [
    "## Zusatzaufgabe 1\n",
    "---\n",
    "\n",
    "**Ben:** \"Anscheinend sind nicht alle Zusammenhänge linear. Fällt dir noch ein Beispiel für einen nicht linearen Zusammenhang ein?\"\n",
    "\n",
    "**Sarah:** \"Ah, ich weiß! Wenn wir von den Robotern wegrennen, dann können wir am Anfang noch ganz schnell rennen. Aber je länger ich renne, desto langsamer werde ich... Ich brauche für die ersten 10m nur 3 Sekunden, aber für 20m schon 8 Sekunden, weil ich nicht unendlich lange in der gleichen Geschwindigketi laufen kann! Was ist das für ein Zusammenhang zwischen Strecke und Zeit?\"\n",
    "\n",
    "**Ben:** \"Dieser Zusammenhang ist auf jeden Fall nicht linear, sonst würdest du für jede 10 Meter, die dazukommen, einfach 3 Sekunden länger brauchen, also für 20 Meter 6 Sekunden. Ich vermute, dieser Zusammenhang ist quadratisch und kann mit Hilfe der Fomel `Output = m*Input^2 + n*Input + c` beschrieben werden. Der Input wird hier also zusätzlich quadriert. Übrigens nennt man diese Formeln, mit denen wir den Zusammenhang zwischen Input und Output beschreiben wollen, auch Modelle. Wenn die Modelle schon trainiert wurden, also in unserem Fall, wenn die optimalen Werte für die Variablen `m`, `n` und `c` schon bestimmt wurden, heißen sie auch trainierte Modelle. Neben linearen und quadratischen Modellen gibt es noch viele weiter wie beispielsweise polynomiale Modelle oder neuronale Netze.\"\n",
    "\n",
    "Schaue dir die Datenpunkte (Strecke und benötigte Zeit) genau an. Die Werte für Ben und Sarah sind in lila markiert. Zeige anschließend das lineare und quadratische Modell an und beantworte die Frage unter der Abbildung."
   ]
  },
  {
   "cell_type": "code",
   "execution_count": null,
   "id": "a36f6c51-dcd2-4782-bcb5-c7af3526b7d8",
   "metadata": {},
   "outputs": [],
   "source": [
    "from regression.quadratic_regression import model_selection, quadratic_regression\n",
    "quadratic_regression()\n",
    "model_selection()"
   ]
  },
  {
   "cell_type": "markdown",
   "id": "2259fdc8-3489-4bcf-b170-e6ee1e7588fd",
   "metadata": {},
   "source": [
    "## Zusatzaufgabe 2\n",
    "---\n",
    "(a) Welche Werte für die Steigung m und den Y-Achsenabschnitt c hat der blaue Funktionsgraphen in der unteren Abbildung?\n",
    "Trage die Werte für m und c in die Felder unten ein und klicke auf \"Zeichne Gerade\".\n",
    "Ist deine Angabe richtig, dann wird der neu konstruierte Funktionsgraph (orange) genau über den Bestehenden gelegt."
   ]
  },
  {
   "cell_type": "code",
   "execution_count": null,
   "id": "e587453f-8368-4035-9a25-b3fa8a713971",
   "metadata": {},
   "outputs": [],
   "source": [
    "from regression.m_and_c import m_and_c_plot\n",
    "\n",
    "m_and_c_plot()"
   ]
  },
  {
   "cell_type": "markdown",
   "id": "f81d7b17-2ad7-4676-a74e-23200c305348",
   "metadata": {},
   "source": [
    "(b) Der Python Code um den blauen Funktionsraphen zu erzeugen besteht im Gunde aus zwei Teilen:\n",
    "1. Die Definition des Funktionsgraphen mittels m und c\n",
    "2. Das visuelle Darstellen des Funktionsgraphen\n",
    "   \n",
    "Ergänze den fehlenden Code (# TODO...) und führe ihn anschließend aus um deine eigene Gerade zu zeichnen."
   ]
  },
  {
   "cell_type": "code",
   "execution_count": null,
   "id": "7447531f-458d-4e3b-adfe-7aafd94941bc",
   "metadata": {},
   "outputs": [],
   "source": [
    "import matplotlib.pyplot as plt\n",
    "import numpy as np\n",
    "\n",
    "\n",
    "def funktionsgraph(x):\n",
    "    # TODO definiere deine Funktionsgraphen: y = \n",
    "    return y\n",
    "\n",
    "def visualisieren():\n",
    "    x = np.linspace(-1, 11, 100)\n",
    "    y = funktionsgraph(x)\n",
    "    fig, ax = plt.subplots()\n",
    "    ax.plot(x, y, linewidth=2, color='tab:blue')\n",
    "    plt.xlim(0, 10)\n",
    "    plt.show()\n",
    "\n",
    "visualisieren()"
   ]
  },
  {
   "cell_type": "markdown",
   "id": "4f999655-2ac5-4637-a00d-5f9515a07575",
   "metadata": {},
   "source": [
    "# Machine Learning Klassifizierung von Bildern"
   ]
  },
  {
   "cell_type": "markdown",
   "id": "0da4a925-7aaf-4b7e-929f-cf3f00275168",
   "metadata": {},
   "source": [
    "Nachdem der Knopf gedrück wurde, öffnete sich ein Luftschacht. Schnell klettert ihr rein und beginnt zu rutschen. Nach kurzer Zeit landet ihr unsanft. \n",
    "\n",
    "**Sarah:** „Oh, ist das alles staubig hier – und so dunkel“\n",
    "\n",
    "Beep schaltet ein helles Licht ein.\n",
    "\n",
    "**Ben:** „Es scheint verlassen zu sein – was ist das hier?\"\n",
    "\n",
    "**Sarah:** „Es sieht aus wie ein Geheimarchiv! Schaut euch mal diese ganzen Blätter an! Die sind voller Daten!“\n",
    "\n",
    "<img src=\"images/classification/testing_doors/robot3_nr1_gef.png\" width=\"250\"/> <img src=\"images/classification/testing_doors/robot1_nr3_gef.png\" width=\"250\"/> <img src=\"images/classification/testing_doors/robot2_nr3_har.png\" width=\"250\"/>\n",
    "\n",
    "**Sarah:** \"Ich habe dort drüben Ordner gesehen, da stand etwas von Robotereigenschaften drauf. Lass uns die Ordner mal genauer anschauen.\""
   ]
  },
  {
   "cell_type": "markdown",
   "id": "739c6d40-3423-4a35-b3c7-4c7c95559948",
   "metadata": {},
   "source": [
    "**Sarah**: Der geheimnisvolle Ordner hat ein Schloss. Um ihn zu öffnen, brauchen wir den richtigen Zahlencode.\"\n",
    "\n",
    "Schaut auf dem Tisch liegt ein Blatt auf dem ein Zahlenrätsel steht.\n",
    "\n",
    "**Ben**: \"Gibt es ein Muster?\"\n",
    "\n",
    "**Sarah**: \"Wenn  wir den richtigen Code finden, können wir das Schloss öffnen und herausfinden, was im Ordner steht?\""
   ]
  },
  {
   "cell_type": "code",
   "execution_count": null,
   "id": "22cc4911-9d09-4577-a5ad-21d61755a59d",
   "metadata": {},
   "outputs": [],
   "source": [
    "from regression.password import password\n",
    "\n",
    "password(puzzle=False)"
   ]
  }
 ],
 "metadata": {
  "kernelspec": {
   "display_name": "Python (venv_correlation)",
   "language": "python",
   "name": "venv_correlation"
  },
  "language_info": {
   "codemirror_mode": {
    "name": "ipython",
    "version": 3
   },
   "file_extension": ".py",
   "mimetype": "text/x-python",
   "name": "python",
   "nbconvert_exporter": "python",
   "pygments_lexer": "ipython3",
   "version": "3.10.12"
  }
 },
 "nbformat": 4,
 "nbformat_minor": 5
}
